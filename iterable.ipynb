{
 "cells": [
  {
   "cell_type": "markdown",
   "metadata": {},
   "source": [
    "Um iterable é uma estrutura que armazena dados que pode ser \"iterada\"\n",
    "\n",
    "Exemplos :<br>\n",
    "    - Listas<br>\n",
    "    - Strings<br>\n",
    "    - Tuplas <br>\n",
    "    - Dicionarios<br>"
   ]
  },
  {
   "cell_type": "markdown",
   "metadata": {},
   "source": [
    "### Estruturas utilizades no iterable"
   ]
  },
  {
   "cell_type": "markdown",
   "metadata": {},
   "source": [
    "#### Range\n",
    "\n",
    "##### Estrutura:\n",
    "\n",
    "- range(tamanho)\n",
    "\n",
    "ou\n",
    "\n",
    "- range(inicio,fim)\n",
    "\n",
    "ou\n",
    "\n",
    "- range(inicio,fim,passo)"
   ]
  },
  {
   "cell_type": "code",
   "execution_count": null,
   "metadata": {},
   "outputs": [
    {
     "name": "stdout",
     "output_type": "stream",
     "text": [
      "arroz: 10\n",
      "feijão: 20\n",
      "macarrão: 30\n",
      "carne: 40\n",
      "frango: 50\n",
      "peixe: 60\n",
      "leite: 70\n",
      "café: 80\n",
      "açúcar: 90\n",
      "sal: 100\n"
     ]
    }
   ],
   "source": [
    "### USO NO FOR COM RANGE\n",
    "produtos = ['arroz', 'feijão', 'macarrão', 'carne', 'frango', 'peixe', 'leite', 'café', 'açúcar', 'sal']\n",
    "estoque = [10, 20, 30, 40, 50, 60, 70, 80, 90, 100]\n",
    "\n",
    "for i in range(10):\n",
    "    print(f'{produtos[i]}: {estoque[i]}')"
   ]
  },
  {
   "cell_type": "code",
   "execution_count": 1,
   "metadata": {},
   "outputs": [
    {
     "name": "stdout",
     "output_type": "stream",
     "text": [
      "2\n",
      "3\n",
      "4\n",
      "5\n",
      "6\n",
      "7\n"
     ]
    }
   ],
   "source": [
    "### RANGE COM INICIO E FIM\n",
    "\n",
    "for i in range(2, 8):\n",
    "    print(i)"
   ]
  },
  {
   "cell_type": "code",
   "execution_count": 2,
   "metadata": {},
   "outputs": [
    {
     "name": "stdout",
     "output_type": "stream",
     "text": [
      "1\n",
      "3\n",
      "5\n",
      "7\n",
      "9\n"
     ]
    }
   ],
   "source": [
    "### RANGE COM PASSO\n",
    "\n",
    "for i in range(1, 10, 2):\n",
    "    print(i)"
   ]
  },
  {
   "cell_type": "markdown",
   "metadata": {},
   "source": [
    "### Set\n",
    "\n",
    "##### Estrutura\n",
    "\n",
    "meu_set = {valor,valor,valor,valor...}\n",
    "\n",
    "##### Obs\n",
    "- Não pode ter valores duplicado<br>\n",
    "- Não tem ordem fixa<br>"
   ]
  },
  {
   "cell_type": "code",
   "execution_count": 3,
   "metadata": {},
   "outputs": [
    {
     "name": "stdout",
     "output_type": "stream",
     "text": [
      "{'frango', 'açúcar', 'arroz', 'carne', 'sal', 'café', 'leite', 'peixe', 'macarrão', 'feijão'}\n"
     ]
    }
   ],
   "source": [
    "set_produtos = {'arroz', 'feijão', 'macarrão', 'carne', 'frango', 'peixe', 'leite', 'café', 'açúcar', 'sal'}\n",
    "print(set_produtos)"
   ]
  },
  {
   "cell_type": "code",
   "execution_count": 8,
   "metadata": {},
   "outputs": [
    {
     "name": "stdout",
     "output_type": "stream",
     "text": [
      "{45645645600, 98732165400, 98765432100, 32132132100, 12312312300, 98798798700, 65412398700, 12345678900, 78978978900, 65465465400}\n"
     ]
    }
   ],
   "source": [
    "cpf_clientes = [12345678900, 98765432100, 12312312300, 45645645600, 78978978900, 32132132100, 65465465400, 98798798700, 65412398700, 98732165400]\n",
    "set_cpf = set(cpf_clientes)\n",
    "print(set_cpf)"
   ]
  }
 ],
 "metadata": {
  "kernelspec": {
   "display_name": "Python 3",
   "language": "python",
   "name": "python3"
  },
  "language_info": {
   "codemirror_mode": {
    "name": "ipython",
    "version": 3
   },
   "file_extension": ".py",
   "mimetype": "text/x-python",
   "name": "python",
   "nbconvert_exporter": "python",
   "pygments_lexer": "ipython3",
   "version": "3.13.2"
  }
 },
 "nbformat": 4,
 "nbformat_minor": 2
}
