{
 "cells": [
  {
   "cell_type": "markdown",
   "metadata": {},
   "source": [
    "# List Comprehension\n",
    "\n",
    "- É uma forma de iterar pelos elementos das listas de maneira \"mais direta\".\n",
    "- É como se fizesser um for em 1 linha"
   ]
  },
  {
   "cell_type": "markdown",
   "metadata": {},
   "source": [
    "### Estrutura:"
   ]
  },
  {
   "cell_type": "markdown",
   "metadata": {},
   "source": [
    "lista = [ exoressão for item in iterable]"
   ]
  },
  {
   "cell_type": "code",
   "execution_count": 1,
   "metadata": {},
   "outputs": [
    {
     "name": "stdout",
     "output_type": "stream",
     "text": [
      "[30.0, 45.0, 90.0, 1650.0]\n"
     ]
    }
   ],
   "source": [
    "precos_produtos = [100 , 150 , 300 , 5500]\n",
    "produtos = [ 'vinho', 'cafeteira' , 'microondas' , 'iphone']\n",
    "\n",
    "impostos = [preco * 0.3 for preco in precos_produtos]\n",
    "\n",
    "print(impostos)\n"
   ]
  },
  {
   "cell_type": "markdown",
   "metadata": {},
   "source": [
    "### Exemplo:\n"
   ]
  },
  {
   "cell_type": "code",
   "execution_count": 4,
   "metadata": {},
   "outputs": [
    {
     "name": "stdout",
     "output_type": "stream",
     "text": [
      "[(5500, 'iphone'), (2100, 'microondas'), (1500, 'vinho'), (150, 'cafeteira')]\n",
      "['iphone', 'microondas', 'vinho', 'cafeteira']\n"
     ]
    }
   ],
   "source": [
    "# Ordenar as duas listas de forma relacionada\n",
    "\n",
    "vendas_produtos = [1500 , 150 , 2100 , 5500]\n",
    "produtos = [ 'vinho', 'cafeteira' , 'microondas' , 'iphone']\n",
    "\n",
    "lista_auxiliar = list(zip(vendas_produtos , produtos))\n",
    "lista_auxiliar.sort(reverse=True)\n",
    "print(lista_auxiliar)\n",
    "\n",
    "produtos = [produto for vendas , produto in lista_auxiliar]\n",
    "print(produtos)\n",
    "\n",
    "\n"
   ]
  },
  {
   "cell_type": "markdown",
   "metadata": {},
   "source": [
    "### Filtrando com if"
   ]
  },
  {
   "cell_type": "code",
   "execution_count": 9,
   "metadata": {},
   "outputs": [
    {
     "name": "stdout",
     "output_type": "stream",
     "text": [
      "[(1500, 'tv'), (150, 'geladeira'), (2100, 'fogao'), (9150, 'microondas')]\n",
      "['tv', 'fogao', 'microondas']\n"
     ]
    }
   ],
   "source": [
    "meta = 1000\n",
    "vendas_produtos = [1500,150,2100,9150]\n",
    "produtos = ['tv','geladeira','fogao','microondas']\n",
    "\n",
    "lista_auxiliar = list(zip(vendas_produtos, produtos))\n",
    "print(lista_auxiliar)\n",
    "\n",
    "produtos_meta = [produto for vendas,produto in lista_auxiliar if vendas > meta]\n",
    "print(produtos_meta)"
   ]
  },
  {
   "cell_type": "code",
   "execution_count": 12,
   "metadata": {},
   "outputs": [
    {
     "name": "stdout",
     "output_type": "stream",
     "text": [
      "[0, 0, 0, 4000.0, 5000.0, 6000.0, 7000.0, 8000.0, 9000.0]\n"
     ]
    }
   ],
   "source": [
    "#Criar uma lista para com o bonus de cada vendedor se for maior que a meta\n",
    "vendedores_dic = {'Maria': 10000, 'João': 20000, 'Ana': 30000, 'Carlos': 40000, 'Pedro': 50000, 'Paula': 60000, 'Joaquim': 70000, 'Luiz': 80000, 'Marta': 90000}\n",
    "meta = 30000\n",
    "\n",
    "bonus = [vendedores_dic[qtd_vendas] * 0.1 if vendedores_dic[qtd_vendas] > meta else 0 for qtd_vendas in vendedores_dic]\n",
    "print(bonus)\n",
    "\n",
    "\n"
   ]
  },
  {
   "cell_type": "code",
   "execution_count": 17,
   "metadata": {},
   "outputs": [
    {
     "name": "stdout",
     "output_type": "stream",
     "text": [
      "8461\n",
      "Top 5 representou 50.6% das vendas\n"
     ]
    }
   ],
   "source": [
    "# calcular quantos % das vendas o meu top 5 produtos representa das vendas totais\n",
    "\n",
    "produtos = ['coca', 'pepsi', 'guarana', 'skol', 'brahma', 'agua', 'del valle', 'dolly', 'red bull', 'cachaça', 'vinho tinto', 'vodka', 'vinho branco', 'tequila', 'champagne', 'gin', 'guaracamp', 'matte', 'leite de castanha', 'leite', 'jurupinga', 'sprite', 'fanta']\n",
    "vendas = [1200, 300, 800, 1500, 1900, 2750, 400, 20, 23, 70, 90, 80, 1100, 999, 900, 880, 870, 50, 1111, 120, 300, 450, 800]\n",
    "top5 = ['agua', 'brahma', 'skol', 'coca', 'leite de castanha']\n",
    "\n",
    "vendas_top5 =  sum (vendas[i] for i ,produto in enumerate(produtos) if produto in top5 )\n",
    "print(vendas_top5)\n",
    "print('Top 5 representou {:0.1%} das vendas'.format(vendas_top5/sum(vendas)))\n"
   ]
  }
 ],
 "metadata": {
  "kernelspec": {
   "display_name": "Python 3",
   "language": "python",
   "name": "python3"
  },
  "language_info": {
   "codemirror_mode": {
    "name": "ipython",
    "version": 3
   },
   "file_extension": ".py",
   "mimetype": "text/x-python",
   "name": "python",
   "nbconvert_exporter": "python",
   "pygments_lexer": "ipython3",
   "version": "3.13.2"
  }
 },
 "nbformat": 4,
 "nbformat_minor": 2
}
