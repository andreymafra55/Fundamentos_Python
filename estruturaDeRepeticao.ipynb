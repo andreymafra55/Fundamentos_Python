{
 "cells": [
  {
   "cell_type": "markdown",
   "metadata": {},
   "source": [
    "# Estrutura de repetição: for\n"
   ]
  },
  {
   "cell_type": "markdown",
   "metadata": {},
   "source": [
    "## Funcionamento:"
   ]
  },
  {
   "cell_type": "code",
   "execution_count": 1,
   "metadata": {},
   "outputs": [
    {
     "name": "stdout",
     "output_type": "stream",
     "text": [
      "0\n",
      "1\n",
      "2\n",
      "3\n",
      "4\n",
      "5\n",
      "6\n",
      "7\n",
      "8\n",
      "9\n"
     ]
    }
   ],
   "source": [
    "for i in range(10):\n",
    "    print(i)"
   ]
  },
  {
   "cell_type": "markdown",
   "metadata": {},
   "source": [
    "#### for each:"
   ]
  },
  {
   "cell_type": "code",
   "execution_count": 2,
   "metadata": {},
   "outputs": [
    {
     "name": "stdout",
     "output_type": "stream",
     "text": [
      "arroz\n",
      "feijão\n",
      "macarrão\n",
      "carne\n",
      "frango\n",
      "peixe\n",
      "leite\n",
      "ovos\n",
      "farinha\n",
      "açúcar\n"
     ]
    }
   ],
   "source": [
    "produtos = ['arroz', 'feijão', 'macarrão', 'carne', 'frango', 'peixe', 'leite', 'ovos', 'farinha', 'açúcar']\n",
    "for produto in produtos:\n",
    "    print(produto)"
   ]
  },
  {
   "cell_type": "markdown",
   "metadata": {},
   "source": [
    "### for + if\n"
   ]
  },
  {
   "cell_type": "code",
   "execution_count": 22,
   "metadata": {},
   "outputs": [
    {
     "name": "stdout",
     "output_type": "stream",
     "text": [
      "Meta atingida\n",
      "Não atingiu a meta\n",
      "Não atingiu a meta\n",
      "Meta atingida\n",
      "Meta atingida\n",
      "Meta atingida\n",
      "Não atingiu a meta\n",
      "Não atingiu a meta\n",
      "Não atingiu a meta\n",
      "Não atingiu a meta\n",
      "Não atingiu a meta\n",
      "Não atingiu a meta\n",
      "Meta atingida\n",
      "Não atingiu a meta\n",
      "Não atingiu a meta\n",
      "Não atingiu a meta\n",
      "Não atingiu a meta\n",
      "Não atingiu a meta\n",
      "Meta atingida\n",
      "Não atingiu a meta\n",
      "Não atingiu a meta\n",
      "Não atingiu a meta\n",
      "Não atingiu a meta\n",
      "26.09% dos vendedores atingiram a meta\n"
     ]
    }
   ],
   "source": [
    "vendas = [1200,300,800,1500,1900,2750,400,20,23,70,90,80,11800,999,900,880,870,20,1111,120,300,450,800]\n",
    "meta = 1000\n",
    "contador = 0\n",
    "porcentagem = 0\n",
    "for venda in vendas:\n",
    "    if venda >= meta:\n",
    "        print('Meta atingida')\n",
    "        contador += 1\n",
    "\n",
    "    else: \n",
    "        print('Não atingiu a meta')\n",
    "\n",
    "porcentagem = (contador / len(vendas)) * 100\n",
    "print('{:.2f}% dos vendedores atingiram a meta'.format(porcentagem))"
   ]
  },
  {
   "cell_type": "markdown",
   "metadata": {},
   "source": [
    "### Enumerate\n"
   ]
  },
  {
   "cell_type": "code",
   "execution_count": 23,
   "metadata": {},
   "outputs": [
    {
     "name": "stdout",
     "output_type": "stream",
     "text": [
      "0 João\n",
      "1 Maria\n",
      "2 José\n",
      "3 Ana\n",
      "4 Carlos\n",
      "5 Mariana\n",
      "6 Pedro\n",
      "7 Paula\n",
      "8 Luiz\n",
      "9 Marta\n"
     ]
    }
   ],
   "source": [
    "funcionarios = ['João', 'Maria', 'José', 'Ana', 'Carlos', 'Mariana', 'Pedro', 'Paula', 'Luiz', 'Marta']\n",
    "\n",
    "for i , funcionario in enumerate(funcionarios):\n",
    "    print(i, funcionario)"
   ]
  },
  {
   "cell_type": "code",
   "execution_count": 27,
   "metadata": {},
   "outputs": [
    {
     "name": "stdout",
     "output_type": "stream",
     "text": [
      "O produto ovos está abaixo do nível mínimo,restam apenas 20 unidades\n",
      "O produto farinha está abaixo do nível mínimo,restam apenas 23 unidades\n",
      "O produto whisky está abaixo do nível mínimo,restam apenas 20 unidades\n"
     ]
    }
   ],
   "source": [
    "estoque = [1200,300,800,1500,1900,2750,400,20,23,70,90,80,11800,999,900,880,870,20,1111,120,300,450,800]\n",
    "produtos = ['arroz', 'feijão', 'macarrão', 'carne', 'frango', 'peixe', 'leite', 'ovos', 'farinha', 'açúcar', 'sal', 'café', 'chá', 'refrigerante', 'suco', 'cerveja', 'vinho', 'whisky', 'vodka', 'tequila', 'rum', 'licor', 'conhaque']\n",
    "nivel_minimo = 50\n",
    "\n",
    "for i , qtde in enumerate(estoque):\n",
    "    if qtde < nivel_minimo:\n",
    "        print('O produto {} está abaixo do nível mínimo,restam apenas {} unidades'.format(produtos[i], qtde))"
   ]
  },
  {
   "cell_type": "markdown",
   "metadata": {},
   "source": [
    "### for dentro de for"
   ]
  },
  {
   "cell_type": "code",
   "execution_count": 33,
   "metadata": {},
   "outputs": [
    {
     "name": "stdout",
     "output_type": "stream",
     "text": [
      "A fabrica Lira Manufacturing está com o produto abaixo do nivel minimo.Tem apenas 47 unidades \n",
      "A fabrica Lira Manufacturing está com o produto abaixo do nivel minimo.Tem apenas 7 unidades \n",
      "A fabrica Fábrica Hashtag está com o produto abaixo do nivel minimo.Tem apenas 23 unidades \n",
      "A fabrica Fábrica Hashtag está com o produto abaixo do nivel minimo.Tem apenas 42 unidades \n",
      "A fabrica Fábrica Hashtag está com o produto abaixo do nivel minimo.Tem apenas 2 unidades \n",
      "A fabrica Python Manufaturas está com o produto abaixo do nivel minimo.Tem apenas 10 unidades \n"
     ]
    }
   ],
   "source": [
    "estoque = [\n",
    "    [294, 125, 269, 208, 783, 852, 259, 371, 47, 102, 386, 87, 685, 686, 697, 941, 163, 631, 7, 714, 218, 670, 453],\n",
    "    [648, 816, 310, 555, 992, 643, 226, 319, 501, 23, 239, 42, 372, 441, 126, 645, 927, 911, 761, 445, 974, 2, 549],\n",
    "    [832, 683, 784, 449, 977, 705, 198, 937, 729, 327, 339, 10, 975, 310, 95, 689, 137, 795, 211, 538, 933, 751, 522],\n",
    "    [837, 168, 570, 397, 53, 297, 966, 714, 72, 737, 259, 629, 625, 469, 922, 305, 782, 243, 841, 848, 372, 621, 362],\n",
    "    [429, 242, 53, 985, 406, 186, 198, 50, 501, 870, 781, 632, 781, 105, 644, 509, 401, 88, 961, 765, 422, 340, 654],\n",
    "]\n",
    "fabricas = ['Lira Manufacturing', 'Fábrica Hashtag', 'Python Manufaturas', 'Produções e Cia', 'Manufatura e Cia']\n",
    "nivel_minimo = 50\n",
    "\n",
    "for i, fabrica in enumerate(estoque):\n",
    "    for qtde in fabrica:\n",
    "        if qtde < nivel_minimo:\n",
    "            print('A fabrica {} está com o produto abaixo do nivel minimo.Tem apenas {} unidades '.format(fabricas[i], qtde))"
   ]
  },
  {
   "cell_type": "markdown",
   "metadata": {},
   "source": [
    "### Break e Continue"
   ]
  },
  {
   "cell_type": "code",
   "execution_count": null,
   "metadata": {},
   "outputs": [],
   "source": [
    "vendas = [100,150,1500,2000,120]\n",
    "meta = 110\n",
    "\n",
    "for venda in vendas:\n",
    "    if venda < meta:\n",
    "        print('Meta não atingida')\n",
    "        break"
   ]
  },
  {
   "cell_type": "code",
   "execution_count": 34,
   "metadata": {},
   "outputs": [
    {
     "name": "stdout",
     "output_type": "stream",
     "text": [
      "Meta atingida pelo vendendor Maria\n",
      "Meta atingida pelo vendendor José\n",
      "Meta atingida pelo vendendor Ana\n"
     ]
    }
   ],
   "source": [
    "vendas = [100,150,1500,2000,120]\n",
    "meta = 130\n",
    "vendedores = ['João', 'Maria', 'José', 'Ana', 'Carlos']\n",
    "\n",
    "for i, venda in enumerate(vendas):\n",
    "    if venda < meta:\n",
    "        continue\n",
    "    else:\n",
    "        print('Meta atingida pelo vendendor {}'.format(vendedores[i]))        \n"
   ]
  },
  {
   "cell_type": "markdown",
   "metadata": {},
   "source": [
    "# Estrutura de repetição: while\n"
   ]
  },
  {
   "cell_type": "code",
   "execution_count": 38,
   "metadata": {},
   "outputs": [
    {
     "name": "stdout",
     "output_type": "stream",
     "text": [
      "0\n",
      "1\n",
      "2\n",
      "3\n",
      "4\n",
      "5\n",
      "6\n",
      "7\n",
      "8\n",
      "9\n"
     ]
    }
   ],
   "source": [
    "i = 0\n",
    "while i < 10:\n",
    "    print(i)\n",
    "    i += 1"
   ]
  },
  {
   "cell_type": "code",
   "execution_count": 40,
   "metadata": {},
   "outputs": [
    {
     "name": "stdout",
     "output_type": "stream",
     "text": [
      "As vendas registradas foram: ['celular', 'tv']\n"
     ]
    }
   ],
   "source": [
    "venda = input('Registre um produto. Para cancelar o registro de um novo produto,basta apertar enter sem digitar nada')\n",
    "vendas = []\n",
    "\n",
    "while venda != '':\n",
    "    vendas.append(venda)\n",
    "    venda = input('Registre um produto. Para cancelar o registro de um novo produto,basta apertar enter sem digitar nada')\n",
    "print('As vendas registradas foram: {}'.format(vendas)) "
   ]
  }
 ],
 "metadata": {
  "kernelspec": {
   "display_name": "Python 3",
   "language": "python",
   "name": "python3"
  },
  "language_info": {
   "codemirror_mode": {
    "name": "ipython",
    "version": 3
   },
   "file_extension": ".py",
   "mimetype": "text/x-python",
   "name": "python",
   "nbconvert_exporter": "python",
   "pygments_lexer": "ipython3",
   "version": "3.13.2"
  }
 },
 "nbformat": 4,
 "nbformat_minor": 2
}
