{
 "cells": [
  {
   "cell_type": "markdown",
   "id": "f8fa26ae",
   "metadata": {},
   "source": [
    "## QR Code simples"
   ]
  },
  {
   "cell_type": "code",
   "execution_count": 2,
   "id": "b5a2be50",
   "metadata": {},
   "outputs": [],
   "source": [
    "import qrcode as qr\n",
    "qr.make(\"https://github.com/andreymafra55\").save(\"github.png\")\n"
   ]
  },
  {
   "cell_type": "markdown",
   "id": "079ff22d",
   "metadata": {},
   "source": [
    "## QR Code com imagem"
   ]
  },
  {
   "cell_type": "code",
   "execution_count": 26,
   "id": "87784001",
   "metadata": {},
   "outputs": [],
   "source": [
    "import qrcode \n",
    "from qrcode.image.styledpil import StyledPilImage\n",
    "\n",
    "qr = qrcode.QRCode(error_correction=qrcode.constants.ERROR_CORRECT_H)\n",
    "qr.add_data(\"https://github.com/andreymafra55\")\n",
    "\n",
    "img = qr.make_image(image_factory=StyledPilImage,embeded_image_path=\"logo.png\")\n",
    "img.save(\"qrcodelogo.png\")\n"
   ]
  },
  {
   "cell_type": "markdown",
   "id": "17505d62",
   "metadata": {},
   "source": [
    "## Criando diversos QR Code ao mesmo tempo"
   ]
  },
  {
   "cell_type": "code",
   "execution_count": 28,
   "id": "1b7c0ba7",
   "metadata": {},
   "outputs": [],
   "source": [
    "import qrcode as qr\n",
    "\n",
    "redes_sociais = {\n",
    "    \"github\": \"https://github.com/andreymafra55\",\n",
    "    \"linkedin\": \"https://www.linkedin.com/in/andrey-mafra-aa4478214/\",\n",
    "    \"instagram\": \"https://www.instagram.com/andrey_mafra5/\"\n",
    "}\n",
    "\n",
    "for rede_social, link in redes_sociais.items():\n",
    "    qr.make(link).save(f\"{rede_social}.png\") "
   ]
  }
 ],
 "metadata": {
  "kernelspec": {
   "display_name": "my_env",
   "language": "python",
   "name": "python3"
  },
  "language_info": {
   "codemirror_mode": {
    "name": "ipython",
    "version": 3
   },
   "file_extension": ".py",
   "mimetype": "text/x-python",
   "name": "python",
   "nbconvert_exporter": "python",
   "pygments_lexer": "ipython3",
   "version": "3.12.3"
  }
 },
 "nbformat": 4,
 "nbformat_minor": 5
}
