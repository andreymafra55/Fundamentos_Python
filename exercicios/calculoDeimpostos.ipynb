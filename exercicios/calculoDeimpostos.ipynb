{
 "cells": [
  {
   "cell_type": "markdown",
   "metadata": {},
   "source": [
    "### 1- Imposto a pagar no Lucro Presumido\n",
    "\n",
    "- 5% sobre faturamento de ISS (mensal)\n",
    "- 0,65% de PIS sobre faturamento, (mensal)\n",
    "- 3% de COFINS sobre faturmaneto, (mensal)\n",
    "- 4.8% de IR (trimestral)\n",
    "- 10% de IR Adicional sobre o que ultrapassar 20mil do faturamento (trimestral)\n",
    "- CSLL: 2,88% sobre faturamento (trimestral)"
   ]
  },
  {
   "cell_type": "code",
   "execution_count": null,
   "metadata": {},
   "outputs": [
    {
     "name": "stdout",
     "output_type": "stream",
     "text": [
      "{'jan': ('R$ 95.141,98', 8229.78127, 14821.102063999999), 'fev': ('R$ 95.425,16', 8254.27634, 14871.168288), 'mar': ('R$ 89.716,31', 7760.460814999999, 13861.843608), 'abr': ('R$ 78.459,99', 6786.789135000001, 11871.726232), 'mai': ('R$ 71.087,28', 6149.04972, 10568.231104), 'jun': ('R$ 83.911,06', 7258.306689999999, 12835.475407999998), 'jul': ('R$ 56.467,26', 4884.41799, 7983.411568000001), 'ago': ('R$ 88.513,58', 7656.42467, 13649.200944), 'set': ('R$ 66.552,49', 5756.790385, 9766.480232000002), 'out': ('R$ 80.164,07', 6934.192055000001, 12173.007576000002), 'nov': ('R$ 66.964,33', 5792.4145450000005, 9839.293544), 'dez': ('R$ 71.525,25', 6186.934125, 10645.664200000001)}\n"
     ]
    }
   ],
   "source": [
    "faturamento = {\n",
    "    'jan': 'R$ 95.141,98',\n",
    "    'fev': 'R$ 95.425,16',\n",
    "    'mar': 'R$ 89.716,31',\n",
    "    'abr': 'R$ 78.459,99',\n",
    "    'mai': 'R$ 71.087,28',\n",
    "    'jun': 'R$ 83.911,06',\n",
    "    'jul': 'R$ 56.467,26',\n",
    "    'ago': 'R$ 88.513,58',\n",
    "    'set': 'R$ 66.552,49',\n",
    "    'out': 'R$ 80.164,07',\n",
    "    'nov': 'R$ 66.964,33',\n",
    "    'dez': 'R$ 71.525,25',\n",
    "}\n",
    "\n",
    "def transformar_em_float(texto):\n",
    "    return float(texto.replace('R$ ', '').replace('.', '').replace(',', '.'))\n",
    "\n",
    "def calcular_imposto_mensal(valor_faturamento):\n",
    "    iss = 0.05 * valor_faturamento\n",
    "    pis = 0.0065 * valor_faturamento\n",
    "    confing = 0.03 * valor_faturamento\n",
    "    return iss + pis + confing\n",
    "    \n",
    "\n",
    "def calcular_imposto_trimestral(valor_faturamento):\n",
    "    ir = 0.048 * valor_faturamento\n",
    "    irA = 0.1  * (valor_faturamento - 20000) if valor_faturamento > 20000 else 0\n",
    "    csll = 0.0288 * valor_faturamento\n",
    "    return ir + irA + csll\n",
    "\n",
    "imposto_mensal = 0\n",
    "imposto_trimestral = 0\n",
    "resultado = {}\n",
    "for mes in faturamento:\n",
    "    valor_faturamento = transformar_em_float(faturamento[mes])\n",
    "    imposto_mensal = calcular_imposto_mensal(valor_faturamento)\n",
    "    imposto_trimestral = calcular_imposto_trimestral(valor_faturamento)\n",
    "    resultado[mes] = (faturamento[mes], imposto_mensal, imposto_trimestral)\n",
    "    \n",
    "print(resultado)\n"
   ]
  }
 ],
 "metadata": {
  "kernelspec": {
   "display_name": "my_env",
   "language": "python",
   "name": "python3"
  },
  "language_info": {
   "codemirror_mode": {
    "name": "ipython",
    "version": 3
   },
   "file_extension": ".py",
   "mimetype": "text/x-python",
   "name": "python",
   "nbconvert_exporter": "python",
   "pygments_lexer": "ipython3",
   "version": "3.12.3"
  }
 },
 "nbformat": 4,
 "nbformat_minor": 2
}
