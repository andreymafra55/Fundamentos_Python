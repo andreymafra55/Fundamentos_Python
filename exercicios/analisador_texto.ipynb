{
 "cells": [
  {
   "cell_type": "markdown",
   "metadata": {},
   "source": [
    "Crie um programa que analise um texto fornecido pelo usuário. O programa deve contar o número de palavras (independentemente se há repetição ou não), a quantidade de cada palavra e a quantidade de cada letra. Ignore maiúsculas e minúsculas ao contar letras (ou seja, transforme tudo para minúsculas). Faça o devido tratamento para pontuação e espaços ao contar palavras.\n",
    "\n",
    "O programa deve conter uma função chamada `analisar_texto` que recebe o texto como parâmetro e retorna a contagem de palavras, a frequência de palavras e a frequência de letras. A função deve ser devidamente documentada.\n",
    "\n",
    "Para o texto \"Olá mundo! Este é um teste. Olá novamente.\" o programa deve imprimir:\n",
    "\n",
    "```\n",
    "Contagem de palavras: 8\n",
    "Frequência de palavras: Counter({'Olá': 2, 'mundo': 1, 'Este': 1, 'é': 1, 'um': 1, 'teste': 1, 'novamente': 1})\n",
    "Frequência de letras: Counter({' ': 7, 'e': 6, 'o': 4, 't': 4, 'm': 3, 'n': 3, 'l': 2, 'á': 2, 'u': 2, 's': 2, 'd': 1, 'é': 1, 'v': 1, 'a': 1})\n",
    "```\n",
    "\n",
    "Dica: use o módulo `string` para obter uma lista de caracteres de pontuação. Exemplo:\n",
    "\n"
   ]
  },
  {
   "cell_type": "code",
   "execution_count": 30,
   "metadata": {},
   "outputs": [
    {
     "name": "stdout",
     "output_type": "stream",
     "text": [
      "Contagem de palavras: 8\n",
      "Frequência de palavras: Counter({'Olá': 2, 'mundo': 1, 'Este': 1, 'é': 1, 'um': 1, 'teste': 1, 'novamente': 1})\n",
      "Frequência de letras: Counter({' ': 7, 'e': 6, 'o': 4, 't': 4, 'm': 3, 'n': 3, 'l': 2, 'á': 2, 'u': 2, 's': 2, 'd': 1, 'é': 1, 'v': 1, 'a': 1})\n"
     ]
    }
   ],
   "source": [
    "import string\n",
    "from collections import Counter\n",
    "\n",
    "def analisa_texto(texto):\n",
    "    \"\"\"\n",
    "    Analisa o texto fornecido e calcula a contagem de palavras, a frequência de palavras\n",
    "    e a frequência de letras.\n",
    "\n",
    "    Parameters\n",
    "    ----------\n",
    "    texto : str\n",
    "        Texto a ser analisado\n",
    "\n",
    "    Returns\n",
    "    -------\n",
    "    tuple\n",
    "        Contagem de palavras, frequência de palavras e frequência de letras\n",
    "    \"\"\"\n",
    "    txt_tratado = texto.translate(str.maketrans('', '', string.punctuation))\n",
    "    txt = txt_tratado.split()\n",
    "    contagem_palavras = len(txt)\n",
    "    frenquecia_palavras = Counter(txt)\n",
    "    frenquecia_letras = Counter(txt_tratado.casefold())\n",
    "\n",
    "    return contagem_palavras, frenquecia_palavras, frenquecia_letras\n",
    "\n",
    "\n",
    "contagem_palavras, frenquecia_palavras, frenquecia_letras = analisa_texto(\"Olá mundo! Este é um teste. Olá novamente.\")\n",
    "print(f\"Contagem de palavras: {contagem_palavras}\")\n",
    "print(f\"Frequência de palavras: {frenquecia_palavras}\")\n",
    "print(f\"Frequência de letras: {frenquecia_letras}\")\n",
    " "
   ]
  }
 ],
 "metadata": {
  "kernelspec": {
   "display_name": "my_env",
   "language": "python",
   "name": "python3"
  },
  "language_info": {
   "codemirror_mode": {
    "name": "ipython",
    "version": 3
   },
   "file_extension": ".py",
   "mimetype": "text/x-python",
   "name": "python",
   "nbconvert_exporter": "python",
   "pygments_lexer": "ipython3",
   "version": "3.12.3"
  }
 },
 "nbformat": 4,
 "nbformat_minor": 2
}
