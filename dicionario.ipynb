{
 "cells": [
  {
   "cell_type": "markdown",
   "metadata": {},
   "source": [
    "# Dicionários\n"
   ]
  },
  {
   "cell_type": "markdown",
   "metadata": {},
   "source": [
    "#### Estrutura"
   ]
  },
  {
   "cell_type": "code",
   "execution_count": 2,
   "metadata": {},
   "outputs": [
    {
     "name": "stdout",
     "output_type": "stream",
     "text": [
      "Nome: João, Idade: 25\n"
     ]
    }
   ],
   "source": [
    "dicionario = {'nome': 'João', 'idade': 25, 'altura': 1.75}\n",
    "nome = dicionario['nome']\n",
    "idade = dicionario['idade']\n",
    "print(f'Nome: {nome}, Idade: {idade}')"
   ]
  },
  {
   "cell_type": "markdown",
   "metadata": {},
   "source": [
    "#### Pegar item do Dicionario \n"
   ]
  },
  {
   "cell_type": "code",
   "execution_count": null,
   "metadata": {},
   "outputs": [],
   "source": [
    "mais_vendidos = {'tecnologia': 'iphone', 'refrigeracao': 'ar consul 12000 btu', 'livros': 'o alquimista', 'eletrodoméstico': 'geladeira', 'lazer': 'prancha surf'}\n",
    "\n",
    "vendas_tecnologia = {'iphone': 15000, 'samsung galaxy': 12000, 'tv samsung': 10000, 'ps5': 14300, 'tablet': 1720, 'ipad': 1000, 'tv philco': 2500, 'notebook hp': 1000, 'notebook dell': 17000, 'notebook asus': 2450}\n",
    "\n",
    "print('O livro mais vendido foi {}'.format(mais_vendidos['livros']))\n",
    "print('O produto mais vendido da categoria lazer foi {}'.format(mais_vendidos['lazer']))\n",
    "\n",
    "#Utilizando .get() para acessar valores\n",
    "\n",
    "print('Foram vendidas {} unidades do notebook asus'.format(vendas_tecnologia.get('notebook asus')))\n",
    "print('Foram vendidas {} unidades do ipad'.format(vendas_tecnologia.get('ipad')))"
   ]
  },
  {
   "cell_type": "markdown",
   "metadata": {},
   "source": [
    "#### Verificar item"
   ]
  },
  {
   "cell_type": "code",
   "execution_count": 17,
   "metadata": {},
   "outputs": [
    {
     "name": "stdout",
     "output_type": "stream",
     "text": [
      "O produto não foi vendido\n"
     ]
    }
   ],
   "source": [
    "mais_vendidos = {'tecnologia': 'iphone', 'refrigeracao': 'ar consul 12000 btu', 'livros': 'o alquimista', 'eletrodoméstico': 'geladeira', 'lazer': 'prancha surf'}\n",
    "\n",
    "vendas_tecnologia = {'iphone': 15000, 'samsung galaxy': 12000, 'tv samsung': 10000, 'ps5': 14300, 'tablet': 1720, 'ipad': 1000, 'tv philco': 2500, 'notebook hp': 1000, 'notebook dell': 17000, 'notebook asus': 2450}\n",
    "\n",
    "if vendas_tecnologia.get('controle') is None:\n",
    "    print('O produto não foi vendido')\n",
    "else:\n",
    "    print('Foram vendidas {} unidades do tablet'.format(vendas_tecnologia.get('tablet')))"
   ]
  },
  {
   "cell_type": "markdown",
   "metadata": {},
   "source": [
    "#### Adicionar item a no dicionário"
   ]
  },
  {
   "cell_type": "code",
   "execution_count": 18,
   "metadata": {},
   "outputs": [
    {
     "name": "stdout",
     "output_type": "stream",
     "text": [
      "{'nome': 'João', 'idade': 25, 'altura': 1.75}\n"
     ]
    }
   ],
   "source": [
    "dicionario = {}\n",
    "dicionario['nome'] = 'João'\n",
    "\n",
    "###Outra forma de adicionar elementos ao dicionário\n",
    "dicionario.update({'idade': 25, 'altura': 1.75})\n",
    "print(dicionario)"
   ]
  },
  {
   "cell_type": "markdown",
   "metadata": {},
   "source": [
    "#### Adicionando e modificando\n"
   ]
  },
  {
   "cell_type": "code",
   "execution_count": 20,
   "metadata": {},
   "outputs": [
    {
     "name": "stdout",
     "output_type": "stream",
     "text": [
      "{'jan': 15000, 'fev': 22000, 'mar': 18000}\n",
      "{'jan': 15000, 'fev': 22000, 'mar': 18000, 'abr': 25000, 'mai': 30000, 'jun': 28000}\n",
      "{'jan': 20000, 'fev': 22000, 'mar': 18000, 'abr': 25000, 'mai': 30000, 'jun': 28000}\n"
     ]
    }
   ],
   "source": [
    "lucro_1trim = {'jan': 15000, 'fev': 22000, 'mar': 18000}\n",
    "lucro_2trim = {'abr': 25000, 'mai': 30000, 'jun': 28000}\n",
    "\n",
    "print(lucro_1trim)\n",
    "\n",
    "lucro_1trim.update(lucro_2trim)\n",
    "print(lucro_1trim)\n",
    "\n",
    "lucro_1trim['jan'] = 20000\n",
    "print(lucro_1trim)"
   ]
  },
  {
   "cell_type": "markdown",
   "metadata": {},
   "source": [
    "#### Remover itens"
   ]
  },
  {
   "cell_type": "code",
   "execution_count": 27,
   "metadata": {},
   "outputs": [
    {
     "name": "stdout",
     "output_type": "stream",
     "text": [
      "{'fev': 22000, 'mar': 18000, 'abr': 25000, 'mai': 30000, 'jun': 28000}\n",
      "22000\n",
      "{}\n"
     ]
    }
   ],
   "source": [
    "lucro_1sem = {'jan': 15000, 'fev': 22000, 'mar': 18000, 'abr': 25000, 'mai': 30000, 'jun': 28000}   \n",
    "\n",
    "del lucro_1sem['jan']\n",
    "print(lucro_1sem)\n",
    "\n",
    "#Utilizando o método .pop() para remover um item do dicionário\n",
    "lucro_fev = lucro_1sem.pop('fev')\n",
    "print(lucro_fev)\n",
    "\n",
    "#Utilizando o método .clear() para limpar o dicionário\n",
    "\n",
    "lucro_1sem.clear()\n",
    "print(lucro_1sem)"
   ]
  },
  {
   "cell_type": "markdown",
   "metadata": {},
   "source": [
    "#### For nos dicionários"
   ]
  },
  {
   "cell_type": "code",
   "execution_count": 32,
   "metadata": {},
   "outputs": [
    {
     "name": "stdout",
     "output_type": "stream",
     "text": [
      "Foram vendidos 20450 notebooks\n"
     ]
    }
   ],
   "source": [
    "vendas_tecnologia = {'iphone': 15000, 'samsung galaxy': 12000, 'tv samsung': 10000, 'ps5': 14300, 'tablet': 1720, 'ipad': 1000, 'tv philco': 2500, 'notebook hp': 1000, 'notebook dell': 17000, 'notebook asus': 2450}\n",
    "total_notebooks = 0\n",
    "\n",
    "for chave in vendas_tecnologia:\n",
    "    if 'notebook' in chave:\n",
    "        total_notebooks += vendas_tecnologia[chave]\n",
    "print('Foram vendidos {} notebooks'.format(total_notebooks))"
   ]
  },
  {
   "cell_type": "markdown",
   "metadata": {},
   "source": [
    "### Métodos úteis em dicionários"
   ]
  },
  {
   "cell_type": "markdown",
   "metadata": {},
   "source": [
    ".itens() -> cria uma lista com os itens dos dicionarios"
   ]
  },
  {
   "cell_type": "code",
   "execution_count": 37,
   "metadata": {},
   "outputs": [
    {
     "name": "stdout",
     "output_type": "stream",
     "text": [
      "dict_items([('nome', 'João'), ('idade', 25), ('altura', 1.75)])\n",
      "nome: João\n",
      "idade: 25\n",
      "altura: 1.75\n"
     ]
    }
   ],
   "source": [
    "dicionario = {'nome': 'João', 'idade': 25, 'altura': 1.75}\n",
    "itens_dict = dicionario.items()\n",
    "print(itens_dict)\n",
    "\n",
    "##Iterando sobre um dicionário\n",
    "for item ,qtde in dicionario.items():\n",
    "    print('{}: {}'.format(item, qtde))"
   ]
  },
  {
   "cell_type": "markdown",
   "metadata": {},
   "source": [
    ".keys() -> cria uma lista com as chaves dos dicionarios"
   ]
  },
  {
   "cell_type": "markdown",
   "metadata": {},
   "source": [
    ".values() -> cria uma lista com os valores dos dicionarios"
   ]
  },
  {
   "cell_type": "code",
   "execution_count": 39,
   "metadata": {},
   "outputs": [
    {
     "name": "stdout",
     "output_type": "stream",
     "text": [
      "dict_keys(['iphone', 'samsung galaxy', 'tv samsung', 'ps5', 'tablet', 'ipad', 'tv philco', 'notebook hp', 'notebook dell', 'notebook asus'])\n",
      "dict_values([15000, 12000, 10000, 14300, 1720, 1000, 2500, 1000, 17000, 2450])\n",
      "dict_keys(['iphone', 'samsung galaxy', 'tv samsung', 'ps5', 'tablet', 'ipad', 'tv philco', 'notebook hp', 'notebook dell', 'notebook asus', 'moto g'])\n",
      "dict_values([15000, 12000, 10000, 14300, 1720, 1000, 2500, 1000, 17000, 2450, 5000])\n"
     ]
    }
   ],
   "source": [
    "vendas_tecnologia = {'iphone': 15000, 'samsung galaxy': 12000, 'tv samsung': 10000, 'ps5': 14300, 'tablet': 1720, 'ipad': 1000, 'tv philco': 2500, 'notebook hp': 1000, 'notebook dell': 17000, 'notebook asus': 2450}\n",
    "\n",
    "chaves = vendas_tecnologia.keys()\n",
    "valores = vendas_tecnologia.values()\n",
    "\n",
    "print(chaves)\n",
    "print(valores)\n",
    "\n",
    "vendas_tecnologia['moto g'] = 5000\n",
    "print(chaves)\n",
    "print(valores)"
   ]
  },
  {
   "cell_type": "markdown",
   "metadata": {},
   "source": [
    "#### Transformando listas em dicionarios"
   ]
  },
  {
   "cell_type": "code",
   "execution_count": null,
   "metadata": {},
   "outputs": [
    {
     "name": "stdout",
     "output_type": "stream",
     "text": [
      "{'iphone': 0, 'samsung galaxy': 0, 'tv samsung': 0, 'ps5': 0, 'tablet': 0, 'ipad': 0, 'tv philco': 0, 'notebook hp': 0, 'notebook dell': 0, 'notebook asus': 0}\n",
      "{'iphone': 15000, 'samsung galaxy': 12000, 'tv samsung': 10000, 'ps5': 14300, 'tablet': 1720, 'ipad': 1000, 'tv philco': 2500, 'notebook hp': 1000, 'notebook dell': 17000, 'notebook asus': 2450}\n"
     ]
    }
   ],
   "source": [
    "produtos = ['iphone', 'samsung galaxy', 'tv samsung', 'ps5', 'tablet', 'ipad', 'tv philco', 'notebook hp', 'notebook dell', 'notebook asus']\n",
    "vendas = [15000, 12000, 10000, 14300, 1720, 1000, 2500, 1000, 17000, 2450]\n",
    "\n",
    "dicionario = dict.fromkeys(produtos, 0)\n",
    "print(dicionario)\n",
    "\n",
    "vendas_tecnologia = dict(zip(produtos, vendas))\n",
    "print(vendas_tecnologia)"
   ]
  }
 ],
 "metadata": {
  "kernelspec": {
   "display_name": "Python 3",
   "language": "python",
   "name": "python3"
  },
  "language_info": {
   "codemirror_mode": {
    "name": "ipython",
    "version": 3
   },
   "file_extension": ".py",
   "mimetype": "text/x-python",
   "name": "python",
   "nbconvert_exporter": "python",
   "pygments_lexer": "ipython3",
   "version": "3.13.2"
  }
 },
 "nbformat": 4,
 "nbformat_minor": 2
}
