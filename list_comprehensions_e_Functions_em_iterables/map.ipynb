{
 "cells": [
  {
   "cell_type": "markdown",
   "id": "0371ca18",
   "metadata": {},
   "source": [
    "# Function em iterables\n",
    "\n",
    "### Segue a mesma lógica de list comprehension, mas é mais simples\n",
    "\n",
    "Basicamente alguns métodos e funções que já existem no Python podem rodar uma function para cada item, da mesma forma que fizemos com list comprehension.\n",
    "\n",
    "Isso pode ajudar a gente a resolver alguns desafios de forma mais simples\n",
    "\n",
    "Uma função que permite que a gente faça isso é a map function\n",
    "\n",
    "### map function"
   ]
  },
  {
   "cell_type": "raw",
   "id": "e51ba893",
   "metadata": {},
   "source": [
    "lista = list(map(função, iterable_original))"
   ]
  },
  {
   "cell_type": "markdown",
   "id": "5ccf716c",
   "metadata": {},
   "source": [
    "- Exemplo: digamos que eu tenha uma function que corrige um código de um produto (semelhante ao que fizemos na seção de function aqui do curso)"
   ]
  },
  {
   "cell_type": "code",
   "execution_count": 1,
   "id": "4afca61c",
   "metadata": {},
   "outputs": [],
   "source": [
    "def padronizar_texto(texto):\n",
    "    texto = texto.casefold()\n",
    "    texto = texto.replace(\"  \", \" \")\n",
    "    texto = texto.strip()\n",
    "    return texto"
   ]
  },
  {
   "cell_type": "markdown",
   "id": "50385f23",
   "metadata": {},
   "source": [
    "- Agora queremos padronizar uma lista de códigos:"
   ]
  },
  {
   "cell_type": "code",
   "execution_count": 2,
   "id": "649f037e",
   "metadata": {},
   "outputs": [],
   "source": [
    "produtos = [' ABC12 ', 'abc34', 'AbC37', 'beb12', ' BSA151', 'BEB23']"
   ]
  },
  {
   "cell_type": "markdown",
   "id": "7a04d7da",
   "metadata": {},
   "source": [
    "- Usando o for, temos que percorrer a lista toda e para cada item executar a function"
   ]
  },
  {
   "cell_type": "code",
   "execution_count": 3,
   "id": "924e2825",
   "metadata": {},
   "outputs": [
    {
     "name": "stdout",
     "output_type": "stream",
     "text": [
      "['abc12', 'abc34', 'abc37', 'beb12', 'bsa151', 'beb23']\n"
     ]
    }
   ],
   "source": [
    "for i,produto in enumerate(produtos):\n",
    "    produtos[i] = padronizar_texto(produto)\n",
    "print(produtos)"
   ]
  },
  {
   "cell_type": "markdown",
   "id": "0703c74e",
   "metadata": {},
   "source": [
    "- Usando o map, apenas chamamos a função e ela já faz isso para a gente"
   ]
  },
  {
   "cell_type": "code",
   "execution_count": 4,
   "id": "1a3d3ca8",
   "metadata": {},
   "outputs": [
    {
     "name": "stdout",
     "output_type": "stream",
     "text": [
      "['abc12', 'abc34', 'abc37', 'beb12', 'bsa151', 'beb23']\n"
     ]
    }
   ],
   "source": [
    "produtos = list(map(padronizar_texto, produtos))\n",
    "print(produtos)"
   ]
  }
 ],
 "metadata": {
  "kernelspec": {
   "display_name": "my_env",
   "language": "python",
   "name": "python3"
  },
  "language_info": {
   "codemirror_mode": {
    "name": "ipython",
    "version": 3
   },
   "file_extension": ".py",
   "mimetype": "text/x-python",
   "name": "python",
   "nbconvert_exporter": "python",
   "pygments_lexer": "ipython3",
   "version": "3.12.3"
  }
 },
 "nbformat": 4,
 "nbformat_minor": 5
}
