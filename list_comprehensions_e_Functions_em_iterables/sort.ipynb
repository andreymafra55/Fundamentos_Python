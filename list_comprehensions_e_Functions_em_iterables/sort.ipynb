{
 "cells": [
  {
   "cell_type": "markdown",
   "id": "46091de9",
   "metadata": {},
   "source": [
    "# sort (ou sorted) com function\n",
    "\n",
    "### Descrição:\n",
    "\n",
    "Até agora no programa, usamos várias vezes o .sort() para ordenar listas\n",
    "\n",
    "Mas o método sort tem um parâmetro que nunca usamos e que agora sabemos usar."
   ]
  },
  {
   "cell_type": "code",
   "execution_count": 1,
   "id": "e258d418",
   "metadata": {},
   "outputs": [
    {
     "name": "stdout",
     "output_type": "stream",
     "text": [
      "['IPad', 'IPhone 11', 'IPhone x', 'airpods', 'apple tv', 'apple watch', 'mac', 'mac book']\n"
     ]
    }
   ],
   "source": [
    "produtos = ['apple tv', 'mac', 'IPhone x', 'IPhone 11', 'IPad', 'apple watch', 'mac book', 'airpods']\n",
    "produtos.sort()\n",
    "print(produtos)"
   ]
  },
  {
   "cell_type": "markdown",
   "id": "431fd61e",
   "metadata": {},
   "source": [
    "- Como faríamos para ordenar corretamente?"
   ]
  },
  {
   "cell_type": "code",
   "execution_count": null,
   "id": "756cadc2",
   "metadata": {},
   "outputs": [
    {
     "name": "stdout",
     "output_type": "stream",
     "text": [
      "['airpods', 'apple tv', 'apple watch', 'IPad', 'IPhone 11', 'IPhone x', 'mac', 'mac book']\n"
     ]
    }
   ],
   "source": [
    "produtos.sort(key=str.casefold) ### colaca tudo em minusculo e ordena e depois retorna com a lista original ordenada\n",
    "print(produtos)"
   ]
  },
  {
   "cell_type": "markdown",
   "id": "867c4cde",
   "metadata": {},
   "source": [
    "### Outro exemplo: como ordenar um dicionário de acordo com o valor"
   ]
  },
  {
   "cell_type": "code",
   "execution_count": 3,
   "id": "fbd94e06",
   "metadata": {},
   "outputs": [],
   "source": [
    "vendas_produtos = {'vinho': 100, 'cafeiteira': 150, 'microondas': 300, 'iphone': 5500}"
   ]
  },
  {
   "cell_type": "markdown",
   "id": "a71dd12d",
   "metadata": {},
   "source": [
    "- Queremos listar da maior quantidade de vendas para a menor, para enviar como report para o diretor, por exemplo"
   ]
  },
  {
   "cell_type": "code",
   "execution_count": 7,
   "id": "dd513952",
   "metadata": {},
   "outputs": [
    {
     "name": "stdout",
     "output_type": "stream",
     "text": [
      "{'iphone': 5500, 'microondas': 300, 'cafeiteira': 150, 'vinho': 100}\n"
     ]
    }
   ],
   "source": [
    "def segundo_elemento(tupla):\n",
    "    return tupla[1]\n",
    "lista_vendas = list(vendas_produtos.items())\n",
    "lista_vendas.sort(key=segundo_elemento,reverse=True)\n",
    "print(dict(lista_vendas))"
   ]
  }
 ],
 "metadata": {
  "kernelspec": {
   "display_name": "my_env",
   "language": "python",
   "name": "python3"
  },
  "language_info": {
   "codemirror_mode": {
    "name": "ipython",
    "version": 3
   },
   "file_extension": ".py",
   "mimetype": "text/x-python",
   "name": "python",
   "nbconvert_exporter": "python",
   "pygments_lexer": "ipython3",
   "version": "3.12.3"
  }
 },
 "nbformat": 4,
 "nbformat_minor": 5
}
