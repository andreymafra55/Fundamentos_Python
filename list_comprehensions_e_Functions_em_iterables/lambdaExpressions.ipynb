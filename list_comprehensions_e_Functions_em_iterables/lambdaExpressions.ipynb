{
 "cells": [
  {
   "cell_type": "markdown",
   "id": "8a0d8e68",
   "metadata": {},
   "source": [
    "# Lambda Expressions\n",
    "\n",
    "### Objetivo:\n",
    "\n",
    "- As lambdas expressions são funções anônimas (sem nome mesmo) que tem 1 linha de código e são atribuidas a uma variável, como se a variável virasse uma função.\n",
    "- Elas normalmente são usadas para fazer uma única ação, mas em Python usamos principalmente dentro de métodos como argumento, para não precisarmos criar uma função só para isso (vamos ver isso na aula que vem)\n",
    "- Outra aplicação delas está em criar um \"gerador de funções\" (vamos ver na 3ª Aula dessa Seção)\n",
    "\n",
    "### Obs\n",
    "\n",
    "- Não é \"obrigatório\" usar lambda expression, até porque praticamente tudo o que você faz com elas você consegue fazer com functions normais. Mas, é importante saber entender quando encontrar e saber usar a medida que você for se acostumando e vendo necessidade\n",
    "\n",
    "### Estrutura:"
   ]
  },
  {
   "cell_type": "raw",
   "id": "71e68dc8",
   "metadata": {},
   "source": [
    "minha_funcao = lambda parametro: expressão"
   ]
  },
  {
   "cell_type": "markdown",
   "id": "6430f480",
   "metadata": {},
   "source": [
    "- Exemplo mais simples"
   ]
  },
  {
   "cell_type": "code",
   "execution_count": 2,
   "id": "d915bec9",
   "metadata": {},
   "outputs": [
    {
     "name": "stdout",
     "output_type": "stream",
     "text": [
      "10\n",
      "10\n"
     ]
    }
   ],
   "source": [
    "def minha_funcao(num):\n",
    "    return num * 2\n",
    "\n",
    "\n",
    "print(minha_funcao(5))\n",
    "\n",
    "minha_funcao2 = lambda num: num * 2\n",
    "\n",
    "print(minha_funcao2(5))"
   ]
  },
  {
   "cell_type": "markdown",
   "id": "ae6da2b4",
   "metadata": {},
   "source": [
    "- Exemplo útil: Vamos usar lambda expressions para criar uma função que calcula o preço dos produtos acrescido do imposto"
   ]
  },
  {
   "cell_type": "code",
   "execution_count": null,
   "id": "6f1ad41d",
   "metadata": {},
   "outputs": [
    {
     "name": "stdout",
     "output_type": "stream",
     "text": [
      "130.0\n"
     ]
    }
   ],
   "source": [
    "imposto = 0.3\n",
    "\n",
    "calcula_imposto = lambda preco: preco + (preco * imposto)\n",
    "\n",
    "print(calcula_imposto(100))"
   ]
  },
  {
   "cell_type": "markdown",
   "id": "6465574d",
   "metadata": {},
   "source": [
    "# Principal Aplicação de Lambda Expressions\n",
    "\n",
    "### Usar lambda como argumento de alguma outra função, como map e filter"
   ]
  },
  {
   "cell_type": "code",
   "execution_count": 5,
   "id": "c5bff23e",
   "metadata": {},
   "outputs": [],
   "source": [
    "preco_tecnologia = {'notebook asus': 2450, 'iphone': 4500, 'samsung galaxy': 3000, 'tv samsung': 1000, 'ps5': 3000, 'tablet': 1000, 'notebook dell': 3000, 'ipad': 3000, 'tv philco': 800, 'notebook hp': 1700}"
   ]
  },
  {
   "cell_type": "markdown",
   "id": "89498a87",
   "metadata": {},
   "source": [
    "### map()\n",
    "- Queremos saber o preço de cada produto adicionando o valor do imposto de 30% sobre o valor do produto"
   ]
  },
  {
   "cell_type": "code",
   "execution_count": 7,
   "id": "9907fff3",
   "metadata": {},
   "outputs": [
    {
     "name": "stdout",
     "output_type": "stream",
     "text": [
      "[3185.0, 5850.0, 3900.0, 1300.0, 3900.0, 1300.0, 3900.0, 3900.0, 1040.0, 2210.0]\n"
     ]
    }
   ],
   "source": [
    "#Fazendo por function\n",
    "\n",
    "def calcular_preco(preco):\n",
    "    return preco * 1.3\n",
    "\n",
    "preco_com_imposto = map(calcular_preco,preco_tecnologia.values())\n",
    "print(list(preco_com_imposto))"
   ]
  },
  {
   "cell_type": "code",
   "execution_count": 9,
   "id": "ae1b889f",
   "metadata": {},
   "outputs": [
    {
     "name": "stdout",
     "output_type": "stream",
     "text": [
      "[3185.0, 5850.0, 3900.0, 1300.0, 3900.0, 1300.0, 3900.0, 3900.0, 1040.0, 2210.0]\n"
     ]
    }
   ],
   "source": [
    "#fazendo por lambda\n",
    "\n",
    "preco_com_imposto = list(map(lambda preco: preco * 1.3,preco_tecnologia.values()))\n",
    "print(preco_com_imposto)\n"
   ]
  },
  {
   "cell_type": "markdown",
   "id": "713acd52",
   "metadata": {},
   "source": [
    "### filter()\n",
    "- Queremos apenas os produtos que custam acima de 2000"
   ]
  },
  {
   "cell_type": "raw",
   "id": "ed81e638",
   "metadata": {},
   "source": [
    "filter(função, iterable) -> retorna como resposta todos os itens do iterable onde a função é True"
   ]
  },
  {
   "cell_type": "code",
   "execution_count": 13,
   "id": "ece89798",
   "metadata": {},
   "outputs": [
    {
     "name": "stdout",
     "output_type": "stream",
     "text": [
      "{'notebook asus': 2450, 'iphone': 4500, 'samsung galaxy': 3000, 'ps5': 3000, 'notebook dell': 3000, 'ipad': 3000}\n"
     ]
    }
   ],
   "source": [
    "#fazendo por function\n",
    "\n",
    "def ehmaior2000(item):\n",
    "    return item[1] > 2000\n",
    "\n",
    "\n",
    "produtos_acima2000 = dict(list(filter(ehmaior2000,preco_tecnologia.items())))\n",
    "print (produtos_acima2000)\n"
   ]
  },
  {
   "cell_type": "code",
   "execution_count": 12,
   "id": "50ee57be",
   "metadata": {},
   "outputs": [
    {
     "name": "stdout",
     "output_type": "stream",
     "text": [
      "{'notebook asus': 2450, 'iphone': 4500, 'samsung galaxy': 3000, 'ps5': 3000, 'notebook dell': 3000, 'ipad': 3000}\n"
     ]
    }
   ],
   "source": [
    "#fazendo por lambda\n",
    "\n",
    "produtos_acima2000 = dict(list(filter(lambda item: item[1] > 2000,preco_tecnologia.items())))\n",
    "print(produtos_acima2000)\n"
   ]
  },
  {
   "cell_type": "markdown",
   "id": "829fd2b6",
   "metadata": {},
   "source": [
    "# Lambda Expressions para gerar funções\n",
    "\n",
    "### Descrição\n",
    "\n",
    "- Uma das aplicações de lambda expressions, além da vista na aula passada, é criar um \"gerador de funções\". Nesse caso, usaremos a lambda expressions dentro da definição de uma outra função\n",
    "\n",
    "### Exemplo:\n",
    "\n",
    "1. Vamos criar uma função que me permita calcular o valor acrescido do imposto de diferentes categorias (produto, serviço, royalties, etc.)"
   ]
  },
  {
   "cell_type": "code",
   "execution_count": 14,
   "id": "ec63464c",
   "metadata": {},
   "outputs": [],
   "source": [
    "# produto 0.1\n",
    "#serviço 0.15\n",
    "#royalties 0.25\n",
    "\n",
    "def calcular_imposto(imposto):\n",
    "    return lambda preco: preco + (preco * imposto)"
   ]
  },
  {
   "cell_type": "markdown",
   "id": "d737336d",
   "metadata": {},
   "source": [
    "- Agora vamos definir as funções que calculam o imposto das 3 categorias (produto, serviço, royalties)"
   ]
  },
  {
   "cell_type": "code",
   "execution_count": 15,
   "id": "21db3a14",
   "metadata": {},
   "outputs": [],
   "source": [
    "calcular_preco_produto = calcular_imposto(0.1)\n",
    "calcular_preco_servico = calcular_imposto(0.15)\n",
    "calcular_preco_royalties = calcular_imposto(0.25)\n",
    "\n"
   ]
  },
  {
   "cell_type": "markdown",
   "id": "ac3c87d4",
   "metadata": {},
   "source": [
    "- Agora vamos aplicar com um valor de nota fiscal de 100 para ver o resultado"
   ]
  },
  {
   "cell_type": "code",
   "execution_count": 16,
   "id": "ad48200f",
   "metadata": {},
   "outputs": [
    {
     "name": "stdout",
     "output_type": "stream",
     "text": [
      "110.0\n",
      "115.0\n",
      "125.0\n"
     ]
    }
   ],
   "source": [
    "print(calcular_preco_produto(100))\n",
    "print(calcular_preco_servico(100))\n",
    "print(calcular_preco_royalties(100))"
   ]
  }
 ],
 "metadata": {
  "kernelspec": {
   "display_name": "my_env",
   "language": "python",
   "name": "python3"
  },
  "language_info": {
   "codemirror_mode": {
    "name": "ipython",
    "version": 3
   },
   "file_extension": ".py",
   "mimetype": "text/x-python",
   "name": "python",
   "nbconvert_exporter": "python",
   "pygments_lexer": "ipython3",
   "version": "3.12.3"
  }
 },
 "nbformat": 4,
 "nbformat_minor": 5
}
