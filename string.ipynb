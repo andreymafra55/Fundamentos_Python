{
 "cells": [
  {
   "cell_type": "markdown",
   "metadata": {},
   "source": [
    " # Concatenando Utilizando f-string  # "
   ]
  },
  {
   "cell_type": "code",
   "execution_count": 2,
   "metadata": {},
   "outputs": [
    {
     "name": "stdout",
     "output_type": "stream",
     "text": [
      "O lucro foi de R$ 1000\n",
      "O lucro foi de R$ 1000\n"
     ]
    }
   ],
   "source": [
    "lucro = 1000\n",
    "prejuizo = 500\n",
    "\n",
    "#com formaT\n",
    "print('O lucro foi de R$ {}'.format(lucro))\n",
    "\n",
    "#com f-string\n",
    "print(f'O lucro foi de R$ {lucro}')"
   ]
  },
  {
   "cell_type": "markdown",
   "metadata": {},
   "source": [
    "# Tamanho da String #\n"
   ]
  },
  {
   "cell_type": "code",
   "execution_count": 2,
   "metadata": {},
   "outputs": [
    {
     "name": "stdout",
     "output_type": "stream",
     "text": [
      "16\n",
      "6\n"
     ]
    }
   ],
   "source": [
    "email = \"andrey@gmail.com\"\n",
    "nome = \"Andrey\"\n",
    "print(len(email))\n",
    "print(len(nome))"
   ]
  },
  {
   "cell_type": "markdown",
   "metadata": {},
   "source": [
    "# Pedaço da  String #"
   ]
  },
  {
   "cell_type": "code",
   "execution_count": null,
   "metadata": {},
   "outputs": [
    {
     "name": "stdout",
     "output_type": "stream",
     "text": [
      "andrey\n",
      "andrey@gmai\n",
      "@gmail.com\n"
     ]
    }
   ],
   "source": [
    "print(email[:6])\n",
    "print(email[:-5])#retira os 5 ultimos caracteres\n",
    "print(email[6:])##retira os 6 primeiros caracteres"
   ]
  },
  {
   "cell_type": "markdown",
   "metadata": {},
   "source": [
    "# Métodos de String #\n"
   ]
  },
  {
   "cell_type": "markdown",
   "metadata": {},
   "source": [
    "- capitalize() -> Coloca a 1ª letra Maiúscula"
   ]
  },
  {
   "cell_type": "code",
   "execution_count": 1,
   "metadata": {},
   "outputs": [
    {
     "name": "stdout",
     "output_type": "stream",
     "text": [
      "Andrey\n"
     ]
    }
   ],
   "source": [
    "texto = \"andrey\"\n",
    "print(texto.capitalize())\n"
   ]
  },
  {
   "cell_type": "markdown",
   "metadata": {},
   "source": [
    "- casefold() -> Transforma todas as letras em minúsculas (existe lower() mas o casefold é melhor normalmente)\n"
   ]
  },
  {
   "cell_type": "code",
   "execution_count": 3,
   "metadata": {},
   "outputs": [
    {
     "name": "stdout",
     "output_type": "stream",
     "text": [
      "andrey\n"
     ]
    }
   ],
   "source": [
    "texto = \"Andrey\"\n",
    "print(texto.casefold())"
   ]
  },
  {
   "cell_type": "markdown",
   "metadata": {},
   "source": [
    "- count()\t-> Quantidade de vezes que um valor aparece na string"
   ]
  },
  {
   "cell_type": "code",
   "execution_count": 2,
   "metadata": {},
   "outputs": [
    {
     "name": "stdout",
     "output_type": "stream",
     "text": [
      "2\n"
     ]
    }
   ],
   "source": [
    "texto = \"andrey@email.com\"\n",
    "print(texto.count('e'))"
   ]
  },
  {
   "cell_type": "markdown",
   "metadata": {},
   "source": [
    "- endswith() -> Verifica se o texto termina com um valor específico e dá como resposta True ou False"
   ]
  },
  {
   "cell_type": "code",
   "execution_count": 4,
   "metadata": {},
   "outputs": [
    {
     "name": "stdout",
     "output_type": "stream",
     "text": [
      "True\n"
     ]
    }
   ],
   "source": [
    "texto = 'andrey@email.com'\n",
    "print(texto.endswith('.com'))"
   ]
  },
  {
   "cell_type": "markdown",
   "metadata": {},
   "source": [
    "- find() -> Procura um texto dentro de outro texto e dá como resposta a posição do texto encontrado"
   ]
  },
  {
   "cell_type": "code",
   "execution_count": 30,
   "metadata": {},
   "outputs": [
    {
     "name": "stdout",
     "output_type": "stream",
     "text": [
      "6\n"
     ]
    }
   ],
   "source": [
    "texto = 'andrey@email.com'\n",
    "print(texto.find('@'))"
   ]
  },
  {
   "cell_type": "markdown",
   "metadata": {},
   "source": [
    "- format() -> Formata uma string de acordo com os valores passados. Já usamos bastante ao longo do programa."
   ]
  },
  {
   "cell_type": "code",
   "execution_count": 6,
   "metadata": {},
   "outputs": [
    {
     "name": "stdout",
     "output_type": "stream",
     "text": [
      "Minha idade é 22\n"
     ]
    }
   ],
   "source": [
    "idade = 22\n",
    "print('Minha idade é {}'.format(idade))"
   ]
  },
  {
   "cell_type": "markdown",
   "metadata": {},
   "source": [
    "- isalnum() -> Verifica se um texto é todo feito com caracteres alfanuméricos (letras e números) -> letras com acento ou ç são considerados letras para essa função."
   ]
  },
  {
   "cell_type": "code",
   "execution_count": 10,
   "metadata": {},
   "outputs": [
    {
     "name": "stdout",
     "output_type": "stream",
     "text": [
      "False\n",
      "True\n"
     ]
    }
   ],
   "source": [
    "texto = 'andrey@123'\n",
    "texto1 = 'andrey123'\n",
    "print(texto.isalnum())\n",
    "print(texto1.isalnum())"
   ]
  },
  {
   "cell_type": "markdown",
   "metadata": {},
   "source": [
    "- isalpha() -> Verifica se um texto é todo feito de letras."
   ]
  },
  {
   "cell_type": "code",
   "execution_count": 9,
   "metadata": {},
   "outputs": [
    {
     "name": "stdout",
     "output_type": "stream",
     "text": [
      "True\n",
      "False\n"
     ]
    }
   ],
   "source": [
    "texto = 'andrey'\n",
    "texto1 = 'andrey123'\n",
    "print(texto.isalpha())\n",
    "print(texto1.isalpha())"
   ]
  },
  {
   "cell_type": "markdown",
   "metadata": {},
   "source": [
    "- isnumeric()\t-> Verifica se um texto é todo feito por números."
   ]
  },
  {
   "cell_type": "code",
   "execution_count": 11,
   "metadata": {},
   "outputs": [
    {
     "name": "stdout",
     "output_type": "stream",
     "text": [
      "True\n",
      "False\n"
     ]
    }
   ],
   "source": [
    "idade = '22'\n",
    "nome = 'andrey123'\n",
    "print(idade.isnumeric())\n",
    "print(nome.isnumeric())"
   ]
  },
  {
   "cell_type": "markdown",
   "metadata": {},
   "source": [
    "- replace() -> Substitui um texto por um outro texto em uma string."
   ]
  },
  {
   "cell_type": "code",
   "execution_count": 13,
   "metadata": {},
   "outputs": [
    {
     "name": "stdout",
     "output_type": "stream",
     "text": [
      "1000,00\n"
     ]
    }
   ],
   "source": [
    "texto = '1000.00'\n",
    "print(texto.replace('.',','))"
   ]
  },
  {
   "cell_type": "markdown",
   "metadata": {},
   "source": [
    "- split()\t-> Separa uma string de acordo com um delimitador em vários textos diferentes."
   ]
  },
  {
   "cell_type": "code",
   "execution_count": 12,
   "metadata": {},
   "outputs": [
    {
     "name": "stdout",
     "output_type": "stream",
     "text": [
      "['andrey', 'gmail.com']\n"
     ]
    }
   ],
   "source": [
    "email = 'andrey@gmail.com'\n",
    "print(email.split('@'))"
   ]
  },
  {
   "cell_type": "markdown",
   "metadata": {},
   "source": [
    "- splitlines() -> separa um texto em vários textos de acordo com os \"enters\" do texto"
   ]
  },
  {
   "cell_type": "code",
   "execution_count": 14,
   "metadata": {},
   "outputs": [
    {
     "name": "stdout",
     "output_type": "stream",
     "text": [
      "['Meu nome', 'é', 'Andrey']\n"
     ]
    }
   ],
   "source": [
    "texto = '''Meu nome\n",
    "é\n",
    "Andrey'''\n",
    "print(texto.splitlines())"
   ]
  },
  {
   "cell_type": "markdown",
   "metadata": {},
   "source": [
    "- startswith() -> Verifica se a string começa com determinado texto"
   ]
  },
  {
   "cell_type": "code",
   "execution_count": 15,
   "metadata": {},
   "outputs": [
    {
     "name": "stdout",
     "output_type": "stream",
     "text": [
      "True\n"
     ]
    }
   ],
   "source": [
    "texto = \"Andrey\"\n",
    "print(texto.startswith('A'))"
   ]
  },
  {
   "cell_type": "markdown",
   "metadata": {},
   "source": [
    "- strip()\t-> Retira caracteres indesejados dos textos. Por padrão, retira espaços \"extras\" no início e no final"
   ]
  },
  {
   "cell_type": "code",
   "execution_count": 16,
   "metadata": {},
   "outputs": [
    {
     "name": "stdout",
     "output_type": "stream",
     "text": [
      "andrey\n"
     ]
    }
   ],
   "source": [
    "texto = ' andrey '\n",
    "print(texto.strip())"
   ]
  },
  {
   "cell_type": "markdown",
   "metadata": {},
   "source": [
    "- title() -> Coloca a 1ª letra de cada palavra em maiúscula"
   ]
  },
  {
   "cell_type": "code",
   "execution_count": 17,
   "metadata": {},
   "outputs": [
    {
     "name": "stdout",
     "output_type": "stream",
     "text": [
      "Brasil,Argentina,Paraguai\n"
     ]
    }
   ],
   "source": [
    "texto = 'brasil,argentina,paraguai'\n",
    "print(texto.title())"
   ]
  },
  {
   "cell_type": "markdown",
   "metadata": {},
   "source": [
    "- upper()\t-> Coloca o texto todo em letra maiúscula"
   ]
  },
  {
   "cell_type": "code",
   "execution_count": 18,
   "metadata": {},
   "outputs": [
    {
     "name": "stdout",
     "output_type": "stream",
     "text": [
      "ANDREY\n"
     ]
    }
   ],
   "source": [
    "texto = 'andrey'\n",
    "print(texto.upper())"
   ]
  },
  {
   "cell_type": "markdown",
   "metadata": {},
   "source": [
    "# Format \n",
    "\n",
    "\n",
    "### Como usar o format para criar formatações personalizadas em prints e textos."
   ]
  },
  {
   "cell_type": "raw",
   "metadata": {},
   "source": [
    ":<\t\tAlinha o texto à esquerda (se tiver espaço na tela para isso)\n",
    ":>\t\tAlinha o texto à direita (se tiver espaço na tela para isso)\n",
    ":^\t\tAlinha o texto ao centro (se tiver espaço na tela para isso)\n",
    ":+\t\tColoca o sinal sempre na frente do número (independente se é positivo ou negativo)\n",
    ":,\t\tColoca a vírgula como separador de milhar\n",
    ":_\t\tColoca o _ como separador de milhar\n",
    ":e\t\tFormato Científico\n",
    ":f\t\tNúmero com quantidade fixa de casas decimais\n",
    ":x\t\tFormato HEX minúscula (para cores)\n",
    ":X\t\tFormato HEX maiúscula (para cores)\n",
    ":%\t\tFormato Percentual"
   ]
  },
  {
   "cell_type": "markdown",
   "metadata": {},
   "source": [
    "- Exemplo de Alinhamento"
   ]
  },
  {
   "cell_type": "code",
   "execution_count": 19,
   "metadata": {},
   "outputs": [
    {
     "name": "stdout",
     "output_type": "stream",
     "text": [
      "Meu e-mail não é andrey@gmail.com              , show?\n"
     ]
    }
   ],
   "source": [
    "email = 'andrey@gmail.com'\n",
    "print('Meu e-mail não é {:<30}, show?'.format(email))"
   ]
  },
  {
   "cell_type": "markdown",
   "metadata": {},
   "source": [
    "- Exemplo de Edição de Sinal"
   ]
  },
  {
   "cell_type": "code",
   "execution_count": 20,
   "metadata": {},
   "outputs": [
    {
     "name": "stdout",
     "output_type": "stream",
     "text": [
      "Faturamento foi +270 e lucro foi -230\n"
     ]
    }
   ],
   "source": [
    "custo = 500\n",
    "faturamento = 270\n",
    "lucro = faturamento - custo\n",
    "print('Faturamento foi {:+} e lucro foi {:+}'.format(faturamento, lucro))"
   ]
  },
  {
   "cell_type": "markdown",
   "metadata": {},
   "source": [
    "- Exemplo de Separador de Milhar"
   ]
  },
  {
   "cell_type": "code",
   "execution_count": 23,
   "metadata": {},
   "outputs": [
    {
     "name": "stdout",
     "output_type": "stream",
     "text": [
      "Faturamento foi +2,700 e lucro foi -2,300\n"
     ]
    }
   ],
   "source": [
    "custo = 5000\n",
    "faturamento = 2700\n",
    "lucro = faturamento - custo\n",
    "print('Faturamento foi {:+,} e lucro foi {:+,}'.format(faturamento, lucro))"
   ]
  },
  {
   "cell_type": "markdown",
   "metadata": {},
   "source": [
    "- Formato com casas Decimais fixas"
   ]
  },
  {
   "cell_type": "code",
   "execution_count": 28,
   "metadata": {},
   "outputs": [
    {
     "name": "stdout",
     "output_type": "stream",
     "text": [
      "Faturamento foi 270.00 e lucro foi -230.00\n"
     ]
    }
   ],
   "source": [
    "custo = 500\n",
    "faturamento = 270\n",
    "lucro = faturamento - custo\n",
    "print('Faturamento foi {:.2f} e lucro foi {:.2f}'.format(faturamento, lucro))"
   ]
  },
  {
   "cell_type": "markdown",
   "metadata": {},
   "source": [
    "- Formato Percentual"
   ]
  },
  {
   "cell_type": "code",
   "execution_count": null,
   "metadata": {},
   "outputs": [
    {
     "name": "stdout",
     "output_type": "stream",
     "text": [
      "Margem de lucro foi de 61.54%\n"
     ]
    }
   ],
   "source": [
    "custo = 500\n",
    "faturamento = 1300\n",
    "lucro = faturamento - custo\n",
    "margem = lucro / faturamento\n",
    "print('Margem de lucro foi de {:.2%}'.format(margem))"
   ]
  },
  {
   "cell_type": "markdown",
   "metadata": {},
   "source": [
    "- Formato Moeda -> Combinação de Formatos\n",
    "\n",
    "Existem módulos/bibliotecas que vão facilitar isso, caso a gente queira, mas vamos ver como usar módulos mais a frente do curso. Por enquanto, se você precisar, pode fazer substituições em string"
   ]
  },
  {
   "cell_type": "code",
   "execution_count": null,
   "metadata": {},
   "outputs": [
    {
     "name": "stdout",
     "output_type": "stream",
     "text": [
      "Faturamento foi R$27,000.00 e lucro foi R$22,000.00\n",
      "R$22.000,00\n"
     ]
    }
   ],
   "source": [
    "custo = 5000\n",
    "faturamento = 27000\n",
    "lucro = faturamento - custo\n",
    "print('Faturamento foi R${:,.2f} e lucro foi R${:,.2f}'.format(faturamento, lucro))\n",
    "\n",
    "#transformando no formato brasileiro\n",
    "lucro_texto = 'R${:_.2f}'.format(lucro)\n",
    "print(lucro_texto.replace('.', ',').replace('_', '.'))"
   ]
  },
  {
   "cell_type": "markdown",
   "metadata": {},
   "source": [
    "- Função round() para arredondar números, caso seja necessário"
   ]
  },
  {
   "cell_type": "code",
   "execution_count": null,
   "metadata": {},
   "outputs": [
    {
     "name": "stdout",
     "output_type": "stream",
     "text": [
      "Imposto sobre o preço é de 15.8\n"
     ]
    }
   ],
   "source": [
    "imposto = 0.15758\n",
    "preco = 100\n",
    "valor_imposto = round(preco * imposto, 1)\n",
    "print('Imposto sobre o preço é de {}'.format(valor_imposto))"
   ]
  }
 ],
 "metadata": {
  "kernelspec": {
   "display_name": "Python 3",
   "language": "python",
   "name": "python3"
  },
  "language_info": {
   "codemirror_mode": {
    "name": "ipython",
    "version": 3
   },
   "file_extension": ".py",
   "mimetype": "text/x-python",
   "name": "python",
   "nbconvert_exporter": "python",
   "pygments_lexer": "ipython3",
   "version": "3.13.2"
  }
 },
 "nbformat": 4,
 "nbformat_minor": 2
}
