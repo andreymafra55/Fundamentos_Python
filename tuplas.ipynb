{
 "cells": [
  {
   "cell_type": "markdown",
   "metadata": {},
   "source": [
    "# Tuplas\n",
    "\n",
    "Parece uma lista mas é imutavel."
   ]
  },
  {
   "cell_type": "markdown",
   "metadata": {},
   "source": [
    "#### Estrutura:"
   ]
  },
  {
   "cell_type": "code",
   "execution_count": null,
   "metadata": {},
   "outputs": [],
   "source": [
    "vendas = ('andrey','27/11/2023','30/10/2002','estágiario de TI',1700)"
   ]
  },
  {
   "cell_type": "markdown",
   "metadata": {},
   "source": [
    "#### Acessando o valor de uma tupla"
   ]
  },
  {
   "cell_type": "code",
   "execution_count": null,
   "metadata": {},
   "outputs": [],
   "source": [
    "vendas = ('andrey','27/11/2023','30/10/2002','estágiario de TI',1700)\n",
    "nome,data_contratacao,data_nascimento,cargo,salario = vendas"
   ]
  },
  {
   "cell_type": "markdown",
   "metadata": {},
   "source": [
    "#### Lista de tuplas"
   ]
  },
  {
   "cell_type": "code",
   "execution_count": 11,
   "metadata": {},
   "outputs": [
    {
     "name": "stdout",
     "output_type": "stream",
     "text": [
      "O produto mais vendido no dia 21/08/2020 foi o ipad de 128gb com 4000 unidades vendidas\n",
      "O faturamento do dia 20/08/2020 foi de R$ 7400000\n"
     ]
    }
   ],
   "source": [
    "vendas = [\n",
    "    ('20/08/2020', 'iphone x', 'azul', '128gb', 350, 4000),\n",
    "    ('20/08/2020', 'iphone x', 'prata', '128gb', 1500, 4000),\n",
    "    ('20/08/2020', 'ipad', 'prata', '256gb', 127, 6000),\n",
    "    ('20/08/2020', 'ipad', 'prata', '128gb', 981, 5000),\n",
    "    ('21/08/2020', 'iphone x', 'azul', '128gb', 397, 4000),\n",
    "    ('21/08/2020', 'iphone x', 'prata', '128gb', 1017, 4000),\n",
    "    ('21/08/2020', 'ipad', 'prata', '256gb', 50, 6000),\n",
    "    ('21/08/2020', 'ipad', 'prata', '128gb', 4000, 5000),\n",
    "]\n",
    "faturamento = 0\n",
    "\n",
    "for venda in vendas:\n",
    "    data, produto, cor, capacidade, quantidade, valor_unitario = venda\n",
    "    if data == '20/08/2020' and produto == 'iphone x':\n",
    "        faturamento += quantidade * valor_unitario\n",
    "    elif data == '21/08/2020':\n",
    "        qtde = quantidade\n",
    "        prod = produto\n",
    "        memoria = capacidade\n",
    "        if quantidade > qtde :\n",
    "            qtde = quantidade\n",
    "            prod = produto\n",
    "            memoria = capacidade\n",
    "\n",
    "print('O produto mais vendido no dia 21/08/2020 foi o {} de {} com {} unidades vendidas'.format(prod,memoria,qtde))\n",
    "print('O faturamento do dia 20/08/2020 foi de R$ {}'.format(faturamento))"
   ]
  }
 ],
 "metadata": {
  "kernelspec": {
   "display_name": "Python 3",
   "language": "python",
   "name": "python3"
  },
  "language_info": {
   "codemirror_mode": {
    "name": "ipython",
    "version": 3
   },
   "file_extension": ".py",
   "mimetype": "text/x-python",
   "name": "python",
   "nbconvert_exporter": "python",
   "pygments_lexer": "ipython3",
   "version": "3.13.2"
  }
 },
 "nbformat": 4,
 "nbformat_minor": 2
}
