{
 "cells": [
  {
   "cell_type": "markdown",
   "metadata": {},
   "source": [
    "# Listas\n"
   ]
  },
  {
   "cell_type": "markdown",
   "metadata": {},
   "source": [
    "- .index() -> Descobre o index de um item da sua lista"
   ]
  },
  {
   "cell_type": "code",
   "execution_count": 6,
   "metadata": {},
   "outputs": [
    {
     "name": "stdout",
     "output_type": "stream",
     "text": [
      "Consulta de Produtos\n",
      "---------------------\n",
      "Produto encontrado\n",
      "Existem 100 unidades de tv em estoque\n"
     ]
    }
   ],
   "source": [
    "produto = ['tv', 'geladeira', 'fogão', 'microondas', 'maquina de lavar', 'liquidificador', 'batedeira', 'torradeira', 'cafeteira', 'sanduicheira']\n",
    "estoque = [100, 50, 30, 20, 10, 100, 100, 100, 100, 100]\n",
    "\n",
    "print('Consulta de Produtos')\n",
    "print('---------------------')\n",
    "prod = input('Digite o nome do produto: ')\n",
    "if prod in produto:\n",
    "    index = produto.index(prod)\n",
    "    print('Produto encontrado')\n",
    "    print('Existem {} unidades de {} em estoque'.format(estoque[index],produto[index]))\n",
    "else:\n",
    "    print('Produto não existe em estoque')\n",
    "    print('Produtos disponíveis em estoque: ')\n",
    "    print(produto)\n",
    "\n"
   ]
  },
  {
   "cell_type": "markdown",
   "metadata": {},
   "source": [
    "- .append(item) -> Adiciona um item a lista"
   ]
  },
  {
   "cell_type": "code",
   "execution_count": 8,
   "metadata": {},
   "outputs": [
    {
     "name": "stdout",
     "output_type": "stream",
     "text": [
      "[]\n",
      "['tv', 'geladeira', 'fogão']\n"
     ]
    }
   ],
   "source": [
    "lista = []\n",
    "print(lista)\n",
    "lista.append('tv')\n",
    "lista.append('geladeira')\n",
    "lista.append('fogão')\n",
    "print(lista)"
   ]
  },
  {
   "cell_type": "markdown",
   "metadata": {},
   "source": [
    "- .insert(posicao, valor) ->\n",
    "Adiciona um valor em uma posição específica em uma lista. Não é recomendado usar a não ser que seja realmente necessário inserir em uma posição específica, porque o método append é mais eficiente."
   ]
  },
  {
   "cell_type": "code",
   "execution_count": 23,
   "metadata": {},
   "outputs": [
    {
     "name": "stdout",
     "output_type": "stream",
     "text": [
      "['Andrey', 'Bruno', 'Carlos', 'Daniel', 'Fernando', 'Eduardo']\n"
     ]
    }
   ],
   "source": [
    "listaAlunos = ['Andrey', 'Bruno', 'Carlos', 'Daniel', 'Eduardo']\n",
    "listaAlunos.insert(4,'Fernando')\n",
    "print(listaAlunos)"
   ]
  },
  {
   "cell_type": "markdown",
   "metadata": {},
   "source": [
    "- .remove(item) -> Remove um item da lista\n"
   ]
  },
  {
   "cell_type": "code",
   "execution_count": 9,
   "metadata": {},
   "outputs": [
    {
     "name": "stdout",
     "output_type": "stream",
     "text": [
      "['fusca', 'brasilia', 'chevette', 'opala', 'kombi']\n",
      "['fusca', 'brasilia', 'chevette', 'kombi']\n"
     ]
    }
   ],
   "source": [
    "listaDeCarros = ['fusca', 'brasilia', 'chevette', 'opala', 'kombi']\n",
    "print(listaDeCarros)\n",
    "listaDeCarros.remove('opala')\n",
    "print(listaDeCarros)"
   ]
  },
  {
   "cell_type": "markdown",
   "metadata": {},
   "source": [
    "- .pop(indice) -> Remove um item da lista a partir do seu indice"
   ]
  },
  {
   "cell_type": "code",
   "execution_count": 11,
   "metadata": {},
   "outputs": [
    {
     "name": "stdout",
     "output_type": "stream",
     "text": [
      "['fusca', 'brasilia', 'chevette', 'opala', 'kombi']\n",
      "3\n",
      "['fusca', 'brasilia', 'chevette', 'kombi']\n"
     ]
    }
   ],
   "source": [
    "listaDeCarros = ['fusca', 'brasilia', 'chevette', 'opala', 'kombi']\n",
    "print(listaDeCarros)\n",
    "print(listaDeCarros.index('opala'))\n",
    "listaDeCarros.pop(3)\n",
    "print(listaDeCarros)"
   ]
  },
  {
   "cell_type": "markdown",
   "metadata": {},
   "source": [
    "- len(lista) -> Descobre o tamanho da lista"
   ]
  },
  {
   "cell_type": "code",
   "execution_count": 12,
   "metadata": {},
   "outputs": [
    {
     "name": "stdout",
     "output_type": "stream",
     "text": [
      "5\n"
     ]
    }
   ],
   "source": [
    "listaDeAnimais = ['cachorro', 'gato', 'papagaio', 'peixe', 'hamster']   \n",
    "print(len(listaDeAnimais))"
   ]
  },
  {
   "cell_type": "markdown",
   "metadata": {},
   "source": [
    "- max() -> Descobre o maior valor da lista\n",
    " "
   ]
  },
  {
   "cell_type": "code",
   "execution_count": 14,
   "metadata": {},
   "outputs": [
    {
     "name": "stdout",
     "output_type": "stream",
     "text": [
      "60\n"
     ]
    }
   ],
   "source": [
    "listaDeIdades = [18, 22, 15, 30, 40, 50, 60]\n",
    "print(max(listaDeIdades))"
   ]
  },
  {
   "cell_type": "markdown",
   "metadata": {},
   "source": [
    "- min() -> Descobre o menor valor da lista"
   ]
  },
  {
   "cell_type": "code",
   "execution_count": 15,
   "metadata": {},
   "outputs": [
    {
     "name": "stdout",
     "output_type": "stream",
     "text": [
      "15\n"
     ]
    }
   ],
   "source": [
    "listaDeIdades = [18, 22, 15, 30, 40, 50, 60]\n",
    "print(min(listaDeIdades))"
   ]
  },
  {
   "cell_type": "markdown",
   "metadata": {},
   "source": [
    "- .extend(lista) -> Adiciona uma lista a outra"
   ]
  },
  {
   "cell_type": "code",
   "execution_count": 18,
   "metadata": {},
   "outputs": [
    {
     "name": "stdout",
     "output_type": "stream",
     "text": [
      "Produtos disponíveis: ['tv', 'geladeira', 'fogão', 'microondas', 'maquina de lavar', 'liquidificador', 'batedeira', 'torradeira', 'cafeteira', 'sanduicheira'] \n",
      "Novos produtos: ['grill', 'panela eletrica', 'ferro de passar', 'aspirador de po', 'ventilador', 'liquidificador', 'batedeira', 'torradeira', 'cafeteira', 'sanduicheira'] \n",
      "Todos os produtos: ['tv', 'geladeira', 'fogão', 'microondas', 'maquina de lavar', 'liquidificador', 'batedeira', 'torradeira', 'cafeteira', 'sanduicheira', 'grill', 'panela eletrica', 'ferro de passar', 'aspirador de po', 'ventilador', 'liquidificador', 'batedeira', 'torradeira', 'cafeteira', 'sanduicheira'] \n"
     ]
    }
   ],
   "source": [
    "produtos = ['tv', 'geladeira', 'fogão', 'microondas', 'maquina de lavar', 'liquidificador', 'batedeira', 'torradeira', 'cafeteira', 'sanduicheira']\n",
    "novos_produtos = ['grill', 'panela eletrica', 'ferro de passar', 'aspirador de po', 'ventilador', 'liquidificador', 'batedeira', 'torradeira', 'cafeteira', 'sanduicheira']\n",
    "print('Produtos disponíveis: {} '.format(produtos))\n",
    "print('Novos produtos: {} '.format(novos_produtos))\n",
    "produtos.extend(novos_produtos)\n",
    "print('Todos os produtos: {} '.format(produtos))"
   ]
  },
  {
   "cell_type": "markdown",
   "metadata": {},
   "source": [
    "- nova_lista = lista 1 + lista 2 -> Dessa forma adiciona umaa lista a outra ,de forma que não se percas as listas após adicionalas"
   ]
  },
  {
   "cell_type": "code",
   "execution_count": 19,
   "metadata": {},
   "outputs": [
    {
     "name": "stdout",
     "output_type": "stream",
     "text": [
      "['tv', 'geladeira', 'fogão', 'microondas', 'maquina de lavar', 'liquidificador', 'batedeira', 'torradeira', 'cafeteira', 'sanduicheira', 'grill', 'panela eletrica', 'ferro de passar', 'aspirador de po', 'ventilador', 'liquidificador', 'batedeira', 'torradeira', 'cafeteira', 'sanduicheira']\n"
     ]
    }
   ],
   "source": [
    "lista1 = ['tv', 'geladeira', 'fogão', 'microondas', 'maquina de lavar', 'liquidificador', 'batedeira', 'torradeira', 'cafeteira', 'sanduicheira']\n",
    "lista2 = ['grill', 'panela eletrica', 'ferro de passar', 'aspirador de po', 'ventilador', 'liquidificador', 'batedeira', 'torradeira', 'cafeteira', 'sanduicheira']\n",
    "nova_lista = lista1 + lista2\n",
    "print(nova_lista)"
   ]
  },
  {
   "cell_type": "markdown",
   "metadata": {},
   "source": [
    "- .sort() -> Ordena a lista\n"
   ]
  },
  {
   "cell_type": "code",
   "execution_count": 20,
   "metadata": {},
   "outputs": [
    {
     "name": "stdout",
     "output_type": "stream",
     "text": [
      "['joao', 'maria', 'jose', 'pedro', 'ana', 'carlos', 'juliana', 'lucas', 'lucia', 'marcos']\n",
      "['ana', 'carlos', 'joao', 'jose', 'juliana', 'lucas', 'lucia', 'marcos', 'maria', 'pedro']\n"
     ]
    }
   ],
   "source": [
    "lista_de_nomes = ['joao', 'maria', 'jose', 'pedro', 'ana', 'carlos', 'juliana', 'lucas', 'lucia', 'marcos']\n",
    "print(lista_de_nomes)\n",
    "lista_de_nomes.sort()\n",
    "print(lista_de_nomes)"
   ]
  },
  {
   "cell_type": "markdown",
   "metadata": {},
   "source": [
    "- print(''.join(lista)) -> Printa a lista de uma melhor forma"
   ]
  },
  {
   "cell_type": "code",
   "execution_count": 21,
   "metadata": {},
   "outputs": [
    {
     "name": "stdout",
     "output_type": "stream",
     "text": [
      "iphone\n",
      "ipad\n",
      "macbook\n",
      "apple watch\n",
      "airpods\n"
     ]
    }
   ],
   "source": [
    "listaDeProdutosApple = ['iphone', 'ipad', 'macbook', 'apple watch', 'airpods']\n",
    "print('\\n'.join(listaDeProdutosApple))"
   ]
  },
  {
   "cell_type": "markdown",
   "metadata": {},
   "source": [
    "- lista = texto.split(separador) -> cria uma lista a partir de uma string"
   ]
  },
  {
   "cell_type": "code",
   "execution_count": 22,
   "metadata": {},
   "outputs": [
    {
     "name": "stdout",
     "output_type": "stream",
     "text": [
      "['ipohe', ' ipad', ' macbook', ' apple watch', ' airpods']\n"
     ]
    }
   ],
   "source": [
    "produtos = 'ipohe, ipad, macbook, apple watch, airpods'\n",
    "produtos = produtos.split(',')\n",
    "print(produtos)"
   ]
  },
  {
   "cell_type": "markdown",
   "metadata": {},
   "source": [
    "- .clear() ->\n",
    "Remove todos os itens de uma lista"
   ]
  },
  {
   "cell_type": "code",
   "execution_count": 24,
   "metadata": {},
   "outputs": [
    {
     "name": "stdout",
     "output_type": "stream",
     "text": [
      "['iphone', 'ipad', 'macbook', 'apple watch', 'airpods']\n",
      "[]\n"
     ]
    }
   ],
   "source": [
    "listaDeProdutos = ['iphone', 'ipad', 'macbook', 'apple watch', 'airpods']\n",
    "print(listaDeProdutos)\n",
    "listaDeProdutos.clear()\n",
    "print(listaDeProdutos)"
   ]
  },
  {
   "cell_type": "markdown",
   "metadata": {},
   "source": [
    "- .count(valor) ->\n",
    "Retorna a quantidade de vezes que o valor aparece na lista"
   ]
  },
  {
   "cell_type": "code",
   "execution_count": 25,
   "metadata": {},
   "outputs": [
    {
     "name": "stdout",
     "output_type": "stream",
     "text": [
      "2\n"
     ]
    }
   ],
   "source": [
    "listaDeIdades = [18, 22, 15, 30,30, 40, 50, 60]\n",
    "print(listaDeIdades.count(30))"
   ]
  },
  {
   "cell_type": "markdown",
   "metadata": {},
   "source": [
    "- list.reverse() ->\n",
    "Inverte a ordem dos elementos de uma lista."
   ]
  },
  {
   "cell_type": "code",
   "execution_count": 26,
   "metadata": {},
   "outputs": [
    {
     "name": "stdout",
     "output_type": "stream",
     "text": [
      "['iphone', 'ipad', 'macbook', 'apple watch', 'airpods']\n",
      "['airpods', 'apple watch', 'macbook', 'ipad', 'iphone']\n"
     ]
    }
   ],
   "source": [
    "listaDeProdutos = ['iphone', 'ipad', 'macbook', 'apple watch', 'airpods']\n",
    "print(listaDeProdutos)\n",
    "listaDeProdutos.reverse()\n",
    "print(listaDeProdutos)"
   ]
  },
  {
   "cell_type": "markdown",
   "metadata": {},
   "source": [
    "- .copy() ->\n",
    "Cria uma cópia da lista original. Outra opção é fazer lista2 = lista1[:]"
   ]
  },
  {
   "cell_type": "code",
   "execution_count": 27,
   "metadata": {},
   "outputs": [
    {
     "name": "stdout",
     "output_type": "stream",
     "text": [
      "['iphone', 'ipad', 'macbook', 'apple watch', 'airpods']\n"
     ]
    }
   ],
   "source": [
    "listaDeProdutos = ['iphone', 'ipad', 'macbook', 'apple watch', 'airpods']\n",
    "listaNova = listaDeProdutos.copy()\n",
    "print(listaNova)"
   ]
  }
 ],
 "metadata": {
  "kernelspec": {
   "display_name": "Python 3",
   "language": "python",
   "name": "python3"
  },
  "language_info": {
   "codemirror_mode": {
    "name": "ipython",
    "version": 3
   },
   "file_extension": ".py",
   "mimetype": "text/x-python",
   "name": "python",
   "nbconvert_exporter": "python",
   "pygments_lexer": "ipython3",
   "version": "3.13.2"
  }
 },
 "nbformat": 4,
 "nbformat_minor": 2
}
