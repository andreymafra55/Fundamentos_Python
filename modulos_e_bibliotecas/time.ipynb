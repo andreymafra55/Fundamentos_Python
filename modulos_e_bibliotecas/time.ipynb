{
 "cells": [
  {
   "cell_type": "markdown",
   "metadata": {},
   "source": [
    "### Biblioteca time"
   ]
  },
  {
   "cell_type": "code",
   "execution_count": 2,
   "metadata": {},
   "outputs": [],
   "source": [
    "import time\n",
    "\n"
   ]
  },
  {
   "cell_type": "markdown",
   "metadata": {},
   "source": [
    ".time -> retorna quantos segundos se passaram desde a EPOCH"
   ]
  },
  {
   "cell_type": "code",
   "execution_count": null,
   "metadata": {},
   "outputs": [
    {
     "name": "stdout",
     "output_type": "stream",
     "text": [
      "1743433153.767168\n"
     ]
    }
   ],
   "source": [
    "segundos_hoje = time.time()\n",
    "print(segundos_hoje)"
   ]
  },
  {
   "cell_type": "markdown",
   "metadata": {},
   "source": [
    ".ctime -> retorna a data em string\n"
   ]
  },
  {
   "cell_type": "code",
   "execution_count": null,
   "metadata": {},
   "outputs": [
    {
     "name": "stdout",
     "output_type": "stream",
     "text": [
      "Mon Mar 31 12:00:06 2025\n"
     ]
    }
   ],
   "source": [
    "data_hoje = time.ctime()\n",
    "print(data_hoje)"
   ]
  },
  {
   "cell_type": "markdown",
   "metadata": {},
   "source": [
    "Calcular duração de algo"
   ]
  },
  {
   "cell_type": "code",
   "execution_count": null,
   "metadata": {},
   "outputs": [
    {
     "name": "stdout",
     "output_type": "stream",
     "text": [
      "o programa levou 2.3219854831695557 segundos para rodar\n"
     ]
    }
   ],
   "source": [
    "tempo_inicial = time.time()\n",
    "for i in range(100000000):\n",
    "    pass\n",
    "tempo_final = time.time()\n",
    "duracao = tempo_final - tempo_inicial\n",
    "print('o programa levou {} segundos para rodar'.format(duracao))"
   ]
  },
  {
   "cell_type": "markdown",
   "metadata": {},
   "source": [
    ".sleep() -> esperar por algum tempo "
   ]
  },
  {
   "cell_type": "code",
   "execution_count": null,
   "metadata": {},
   "outputs": [
    {
     "name": "stdout",
     "output_type": "stream",
     "text": [
      "começaando\n",
      "rodou 5 segundos após\n"
     ]
    }
   ],
   "source": [
    "print('começaando')\n",
    "time.sleep(5)\n",
    "print('rodou 5 segundos após')"
   ]
  },
  {
   "cell_type": "markdown",
   "metadata": {},
   "source": [
    ".gmtime() -> pega o horário internacional<br>\n",
    ".localtime() -> pega o horario da maquina"
   ]
  },
  {
   "cell_type": "code",
   "execution_count": null,
   "metadata": {},
   "outputs": [
    {
     "name": "stdout",
     "output_type": "stream",
     "text": [
      "time.struct_time(tm_year=2025, tm_mon=3, tm_mday=31, tm_hour=15, tm_min=10, tm_sec=40, tm_wday=0, tm_yday=90, tm_isdst=0)\n",
      "time.struct_time(tm_year=2025, tm_mon=3, tm_mday=31, tm_hour=12, tm_min=10, tm_sec=40, tm_wday=0, tm_yday=90, tm_isdst=0)\n"
     ]
    }
   ],
   "source": [
    "hora_geral = time.gmtime()\n",
    "hora_local = time.localtime()\n",
    "print(hora_geral)\n",
    "print(hora_local)"
   ]
  },
  {
   "cell_type": "code",
   "execution_count": null,
   "metadata": {},
   "outputs": [
    {
     "name": "stdout",
     "output_type": "stream",
     "text": [
      "Data: 31/3/2025\n",
      "Data: 31/3/2025\n"
     ]
    }
   ],
   "source": [
    "dia = hora_local.tm_mday\n",
    "mes = hora_local.tm_mon\n",
    "ano = hora_local.tm_year\n",
    "\n",
    "print('Data: {}/{}/{}'.format(dia,mes,ano))\n",
    "print(f'Data: {dia}/{mes}/{ano}')"
   ]
  },
  {
   "cell_type": "markdown",
   "metadata": {},
   "source": [
    ".strftime() -> converte um objeto de tempo strucut para uma string"
   ]
  },
  {
   "cell_type": "code",
   "execution_count": null,
   "metadata": {},
   "outputs": [
    {
     "name": "stdout",
     "output_type": "stream",
     "text": [
      "time.struct_time(tm_year=2025, tm_mon=3, tm_mday=31, tm_hour=12, tm_min=23, tm_sec=51, tm_wday=0, tm_yday=90, tm_isdst=0)\n",
      "31 March 2025\n",
      "12:23:51\n"
     ]
    }
   ],
   "source": [
    "tempo_em_struct = time.localtime()\n",
    "print(tempo_em_struct)\n",
    "\n",
    "print(time.strftime(\"%d %B %Y\", tempo_em_struct))\n",
    "print(time.strftime(\"%H:%M:%S\", tempo_em_struct))"
   ]
  },
  {
   "cell_type": "code",
   "execution_count": null,
   "metadata": {},
   "outputs": [
    {
     "name": "stdout",
     "output_type": "stream",
     "text": [
      "Monday, 31 de March de 2025, 12:23:51\n"
     ]
    }
   ],
   "source": [
    "tempo_formatado = time.strftime(\"%A, %d de %B de %Y, %H:%M:%S\", tempo_em_struct)\n",
    "print(tempo_formatado)"
   ]
  },
  {
   "cell_type": "markdown",
   "metadata": {},
   "source": [
    "Importanto o locale para deixar as datas em portugues"
   ]
  },
  {
   "cell_type": "code",
   "execution_count": null,
   "metadata": {},
   "outputs": [
    {
     "name": "stdout",
     "output_type": "stream",
     "text": [
      "segunda-feira, 31 de marÃ§o de 2025, 12:26:22\n"
     ]
    }
   ],
   "source": [
    "import locale\n",
    "import time\n",
    "locale.setlocale(locale.LC_TIME, 'pt_BR.UTF-8')\n",
    "\n",
    "tempo_em_struct = time.localtime()\n",
    "tempo_formatado = time.strftime(\"%A, %d de %B de %Y, %H:%M:%S\", tempo_em_struct)\n",
    "print(tempo_formatado)"
   ]
  },
  {
   "cell_type": "markdown",
   "metadata": {},
   "source": [
    "strptime() -> analisa uma string representando um horário e retorna um obbjeto struct_time"
   ]
  },
  {
   "cell_type": "code",
   "execution_count": null,
   "metadata": {},
   "outputs": [
    {
     "name": "stdout",
     "output_type": "stream",
     "text": [
      "time.struct_time(tm_year=2002, tm_mon=10, tm_mday=30, tm_hour=0, tm_min=0, tm_sec=0, tm_wday=2, tm_yday=303, tm_isdst=-1)\n"
     ]
    }
   ],
   "source": [
    "string_tempo = '30 de outubro de 2002'\n",
    "formato = '%d de %B de %Y'\n",
    "tempo_em_struct = time.strptime(string_tempo, formato)\n",
    "print(tempo_em_struct)"
   ]
  },
  {
   "cell_type": "code",
   "execution_count": null,
   "metadata": {},
   "outputs": [
    {
     "name": "stdout",
     "output_type": "stream",
     "text": [
      "time.struct_time(tm_year=2025, tm_mon=3, tm_mday=31, tm_hour=0, tm_min=0, tm_sec=0, tm_wday=0, tm_yday=90, tm_isdst=-1)\n"
     ]
    }
   ],
   "source": [
    "#data na forma dia/mes/ano\n",
    "string_tempo = '31/03/2025'\n",
    "formato = '%d/%m/%Y'\n",
    "tempo_em_struct_time = time.strptime(string_tempo, formato)\n",
    "print(tempo_em_struct_time)"
   ]
  },
  {
   "cell_type": "code",
   "execution_count": null,
   "metadata": {},
   "outputs": [
    {
     "name": "stdout",
     "output_type": "stream",
     "text": [
      "time.struct_time(tm_year=2025, tm_mon=3, tm_mday=31, tm_hour=0, tm_min=0, tm_sec=0, tm_wday=0, tm_yday=90, tm_isdst=-1)\n"
     ]
    }
   ],
   "source": [
    "#data na forma mes/dia/ano\n",
    "string_tempo = '03/31/2025'\n",
    "formato = '%m/%d/%Y'\n",
    "tempo_em_struct_time = time.strptime(string_tempo, formato)\n",
    "print(tempo_em_struct_time)"
   ]
  },
  {
   "cell_type": "markdown",
   "metadata": {},
   "source": [
    ".mktime() -> coverte um objeto struct_time em segundos desde a epoch"
   ]
  },
  {
   "cell_type": "code",
   "execution_count": null,
   "metadata": {},
   "outputs": [
    {
     "name": "stdout",
     "output_type": "stream",
     "text": [
      "time.struct_time(tm_year=2025, tm_mon=3, tm_mday=31, tm_hour=12, tm_min=38, tm_sec=54, tm_wday=0, tm_yday=90, tm_isdst=0)\n",
      "1743435534.0\n"
     ]
    }
   ],
   "source": [
    "tempo_em_struct = time.localtime()\n",
    "tempo_em_segundos = time.mktime(tempo_em_struct)\n",
    "\n",
    "print(tempo_em_struct)\n",
    "print(tempo_em_segundos)"
   ]
  },
  {
   "cell_type": "markdown",
   "metadata": {},
   "source": [
    "Calculando a diferença entre dois tempo\n"
   ]
  },
  {
   "cell_type": "code",
   "execution_count": 3,
   "metadata": {},
   "outputs": [
    {
     "name": "stdout",
     "output_type": "stream",
     "text": [
      "7735483.0\n"
     ]
    }
   ],
   "source": [
    "time_atual = time.localtime()\n",
    "tempo_ano_novo = time.mktime((2025,1,1,0,0,0,0,0,0))\n",
    "\n",
    "diferenca = time.mktime(time_atual) - tempo_ano_novo\n",
    "print(diferenca)"
   ]
  }
 ],
 "metadata": {
  "kernelspec": {
   "display_name": "Python 3",
   "language": "python",
   "name": "python3"
  },
  "language_info": {
   "codemirror_mode": {
    "name": "ipython",
    "version": 3
   },
   "file_extension": ".py",
   "mimetype": "text/x-python",
   "name": "python",
   "nbconvert_exporter": "python",
   "pygments_lexer": "ipython3",
   "version": "3.13.2"
  }
 },
 "nbformat": 4,
 "nbformat_minor": 2
}
