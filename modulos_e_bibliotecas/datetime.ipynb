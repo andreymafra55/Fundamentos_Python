{
 "cells": [
  {
   "cell_type": "markdown",
   "metadata": {},
   "source": [
    "# Biblioteca Datetime"
   ]
  },
  {
   "cell_type": "code",
   "execution_count": 3,
   "metadata": {},
   "outputs": [],
   "source": [
    "from datetime import datetime"
   ]
  },
  {
   "cell_type": "markdown",
   "metadata": {},
   "source": [
    ".now() -> retorna data e hora atuais\n"
   ]
  },
  {
   "cell_type": "code",
   "execution_count": null,
   "metadata": {},
   "outputs": [
    {
     "name": "stdout",
     "output_type": "stream",
     "text": [
      "2025-03-31 17:06:48.343486\n"
     ]
    }
   ],
   "source": [
    "\n",
    "data_atual = datetime.now()\n",
    "\n",
    "print(f'{data_atual}')"
   ]
  },
  {
   "cell_type": "markdown",
   "metadata": {},
   "source": [
    "Algumas funções para pegar elementos especificos"
   ]
  },
  {
   "cell_type": "code",
   "execution_count": 11,
   "metadata": {},
   "outputs": [
    {
     "name": "stdout",
     "output_type": "stream",
     "text": [
      "Data: 2025-03-31\n",
      "Horário: 17:06:48.343486\n",
      "Ano: 2025\n",
      "Mês: 3\n",
      "Dia: 31\n",
      "Hora: 17\n",
      "Minuto: 6\n",
      "Segundo: 48\n"
     ]
    }
   ],
   "source": [
    "print(f'Data: {data_atual.date()}')\n",
    "print(f'Horário: {data_atual.time()}')\n",
    "print(f'Ano: {data_atual.year}')\n",
    "print(f'Mês: {data_atual.month}')\n",
    "print(f'Dia: {data_atual.day}')\n",
    "print(f'Hora: {data_atual.hour}')\n",
    "print(f'Minuto: {data_atual.minute}')\n",
    "print(f'Segundo: {data_atual.second}')"
   ]
  },
  {
   "cell_type": "markdown",
   "metadata": {},
   "source": [
    ".today() -> Retorna só a data atual"
   ]
  },
  {
   "cell_type": "code",
   "execution_count": 13,
   "metadata": {},
   "outputs": [
    {
     "name": "stdout",
     "output_type": "stream",
     "text": [
      "2025-03-31\n"
     ]
    }
   ],
   "source": [
    "from datetime import date\n",
    "\n",
    "hoje = date.today()\n",
    "print(hoje)"
   ]
  },
  {
   "cell_type": "markdown",
   "metadata": {},
   "source": [
    ".timedelta() -> utilizada para realizar operações com datas"
   ]
  },
  {
   "cell_type": "code",
   "execution_count": 14,
   "metadata": {},
   "outputs": [
    {
     "name": "stdout",
     "output_type": "stream",
     "text": [
      "Data atual: 2025-03-31 17:15:29.240637\n",
      "Data 10 dias no futuro: 2025-04-10 17:15:29.240637\n",
      "Data 10 dias no passado: 2025-03-21 17:15:29.240637\n",
      "Data 10 horas no futuro: 2025-04-01 03:15:29.240637\n"
     ]
    }
   ],
   "source": [
    "from datetime import datetime, timedelta\n",
    "\n",
    "data_atual = datetime.now()\n",
    "print(f'Data atual: {data_atual}')\n",
    "\n",
    "data_futura = data_atual + timedelta(days = 10)\n",
    "print(f'Data 10 dias no futuro: {data_futura}')\n",
    "\n",
    "data_passada = data_atual - timedelta(days = 10)\n",
    "print(f'Data 10 dias no passado: {data_passada}')\n",
    "\n",
    "data_horas_adiante = data_atual + timedelta(hours = 10)\n",
    "print(f'Data 10 horas no futuro: {data_horas_adiante}')"
   ]
  },
  {
   "cell_type": "markdown",
   "metadata": {},
   "source": [
    "### Criação de um objeto datetime\n",
    "\n",
    "Podemos criar um objeto datetime usando a classe `datetime`. O construtor da classe possui como principais argumentos:\n",
    "\n",
    "- `year`: ano (por exemplo, 2023)\n",
    "- `month`: mês (1-12)\n",
    "- `day`: dia (1-31)\n",
    "- `hour`: hora (0-23)\n",
    "- `minute`: minuto (0-59)\n",
    "- `second`: segundo (0-59)\n",
    "- `microsecond`: microssegundo (0-999999)\n",
    "- `tzinfo`: fuso horário"
   ]
  },
  {
   "cell_type": "code",
   "execution_count": null,
   "metadata": {},
   "outputs": [
    {
     "name": "stdout",
     "output_type": "stream",
     "text": [
      "2025-03-31 17:20:30\n"
     ]
    }
   ],
   "source": [
    "from datetime import datetime\n",
    "\n",
    "data = datetime(2025,3,31,17,20,30)\n",
    "print(data)\n"
   ]
  },
  {
   "cell_type": "markdown",
   "metadata": {},
   "source": [
    ".fromisoformat() -> converte uma string em datetime"
   ]
  },
  {
   "cell_type": "code",
   "execution_count": 17,
   "metadata": {},
   "outputs": [
    {
     "name": "stdout",
     "output_type": "stream",
     "text": [
      "2020-08-20 20:00:00\n"
     ]
    }
   ],
   "source": [
    "data_hora_iso = datetime.fromisoformat('2020-08-20 20:00:00')\n",
    "print(data_hora_iso)"
   ]
  },
  {
   "cell_type": "markdown",
   "metadata": {},
   "source": [
    "### Calculando diferenças entre datas"
   ]
  },
  {
   "cell_type": "code",
   "execution_count": null,
   "metadata": {},
   "outputs": [
    {
     "name": "stdout",
     "output_type": "stream",
     "text": [
      "-1649 days, 0:00:00\n",
      "-4.517808219178082\n"
     ]
    }
   ],
   "source": [
    "from datetime import datetime\n",
    "\n",
    "data_nascimento_andrey = datetime(2002, 10, 30)\n",
    "data_nascimento_heitor = datetime(2007, 5, 6)\n",
    "\n",
    "diferenca = data_nascimento_andrey - data_nascimento_heitor \n",
    "\n",
    "print(diferenca)\n"
   ]
  },
  {
   "cell_type": "markdown",
   "metadata": {},
   "source": [
    "### Comparação entre datas"
   ]
  },
  {
   "cell_type": "code",
   "execution_count": 24,
   "metadata": {},
   "outputs": [
    {
     "name": "stdout",
     "output_type": "stream",
     "text": [
      "Andrey é mais velho que Heitor\n"
     ]
    }
   ],
   "source": [
    "from datetime import datetime\n",
    "\n",
    "data_nascimento_andrey = datetime(2002, 10, 30)\n",
    "data_nascimento_heitor = datetime(2007, 5, 6)\n",
    "\n",
    "if data_nascimento_andrey < data_nascimento_heitor:\n",
    "    print('Andrey é mais velho que Heitor')\n",
    "else:\n",
    "    print('Heitor é mais velho que Andrey')\n"
   ]
  },
  {
   "cell_type": "markdown",
   "metadata": {},
   "source": [
    "### Ordenando lista de datas\n",
    "\n",
    "utilizamos a função sorted"
   ]
  },
  {
   "cell_type": "code",
   "execution_count": 26,
   "metadata": {},
   "outputs": [
    {
     "name": "stdout",
     "output_type": "stream",
     "text": [
      "[datetime.datetime(2025, 10, 11, 0, 0), datetime.datetime(2025, 10, 10, 0, 0), datetime.datetime(2022, 1, 3, 0, 0), datetime.datetime(2022, 1, 2, 0, 0), datetime.datetime(2022, 1, 1, 0, 0)]\n"
     ]
    }
   ],
   "source": [
    "from datetime import datetime\n",
    "\n",
    "datas = [datetime(2022, 1, 1), datetime(2022, 1, 2), datetime(2022, 1, 3),datetime(2025,10,10),datetime(2025,10,11)]\n",
    "datas_ordaneas = sorted(datas,reverse=True)\n",
    "print(datas_ordaneas)"
   ]
  },
  {
   "cell_type": "code",
   "execution_count": 27,
   "metadata": {},
   "outputs": [
    {
     "name": "stdout",
     "output_type": "stream",
     "text": [
      "2025-10-11\n",
      "2025-10-10\n",
      "2022-01-03\n",
      "2022-01-02\n",
      "2022-01-01\n"
     ]
    }
   ],
   "source": [
    "for data in datas_ordaneas:\n",
    "    print(data.date())"
   ]
  },
  {
   "cell_type": "markdown",
   "metadata": {},
   "source": [
    "### Funções no datetime\n"
   ]
  },
  {
   "cell_type": "code",
   "execution_count": 38,
   "metadata": {},
   "outputs": [
    {
     "data": {
      "text/plain": [
       "'pt_BR.UTF-8'"
      ]
     },
     "execution_count": 38,
     "metadata": {},
     "output_type": "execute_result"
    }
   ],
   "source": [
    "import locale\n",
    "\n",
    "locale.setlocale(locale.LC_ALL, 'pt_BR.UTF-8')"
   ]
  },
  {
   "cell_type": "markdown",
   "metadata": {},
   "source": [
    ".strftime() -> converte um objeto datetime para uma string"
   ]
  },
  {
   "cell_type": "code",
   "execution_count": 31,
   "metadata": {},
   "outputs": [
    {
     "name": "stdout",
     "output_type": "stream",
     "text": [
      "2025-03-31 18:43:47.275415\n",
      "31/03/2025 18:43:47\n"
     ]
    }
   ],
   "source": [
    "from datetime import datetime\n",
    "\n",
    "data_hoje = datetime.now()\n",
    "print(data_hoje)\n",
    "\n",
    "print(data_hoje.strftime('%d/%m/%Y %H:%M:%S'))"
   ]
  },
  {
   "cell_type": "markdown",
   "metadata": {},
   "source": [
    ".strptime -> pega uma string e transforma num obbjeto datetime"
   ]
  },
  {
   "cell_type": "code",
   "execution_count": 46,
   "metadata": {},
   "outputs": [
    {
     "name": "stdout",
     "output_type": "stream",
     "text": [
      "Data:2002-10-30 00:00:00\n"
     ]
    }
   ],
   "source": [
    "from datetime import datetime\n",
    "\n",
    "string_data = '30 de outubro de 2002, 00:00:00'\n",
    "formato = \"%d de %B de %Y, %H:%M:%S\"\n",
    "data = datetime.strptime(string_data, formato)\n",
    "print(f'Data:{data}')"
   ]
  },
  {
   "cell_type": "markdown",
   "metadata": {},
   "source": [
    "### Trabalhando com fuso horário\n"
   ]
  },
  {
   "cell_type": "code",
   "execution_count": 48,
   "metadata": {},
   "outputs": [
    {
     "name": "stdout",
     "output_type": "stream",
     "text": [
      "2025-06-26 15:30:20+00:00\n"
     ]
    }
   ],
   "source": [
    "from datetime import datetime,timezone\n",
    "\n",
    "fuso = timezone.utc\n",
    "data = datetime(2025, 6,26,15,30,20, tzinfo=fuso)\n",
    "print(data)"
   ]
  },
  {
   "cell_type": "markdown",
   "metadata": {},
   "source": [
    "Podemos passar um objeto `timedelta` para o construtor da classe `timezone` para criar um fuso horário com um deslocamento específico. Por exemplo, o código abaixo cria um fuso horário com um deslocamento de 3 horas em relação ao UTC:\n"
   ]
  },
  {
   "cell_type": "code",
   "execution_count": 49,
   "metadata": {},
   "outputs": [
    {
     "name": "stdout",
     "output_type": "stream",
     "text": [
      "Data/hora: 2023-06-26 15:30:20-03:00\n"
     ]
    }
   ],
   "source": [
    "# exemplo com fuso horário de São Paulo\n",
    "from datetime import datetime, timezone, timedelta\n",
    "\n",
    "fuso_horario_sao_paulo = timezone(timedelta(hours=-3))\n",
    "data_hora = datetime(2023, 6, 26, 15, 30, 20, tzinfo=fuso_horario_sao_paulo)\n",
    "print(f\"Data/hora: {data_hora}\")"
   ]
  },
  {
   "cell_type": "markdown",
   "metadata": {},
   "source": [
    "Como alternativa, podemos usar o módulo `zoneinfo` para criar um objeto `tzinfo`. O módulo `zoneinfo` está disponível na biblioteca padrão do Python desde a versão 3.9. O módulo `zoneinfo` fornece uma classe `ZoneInfo` que pode ser usada para criar um objeto `tzinfo`. No exemplo abaixo, usamos o fuso horário de São Paulo. Observe que não precisamos passar um objeto `timedelta` para o construtor da classe `ZoneInfo`."
   ]
  },
  {
   "cell_type": "code",
   "execution_count": null,
   "metadata": {},
   "outputs": [
    {
     "name": "stdout",
     "output_type": "stream",
     "text": [
      "Data/hora: 2023-06-26 15:30:20-03:00\n"
     ]
    }
   ],
   "source": [
    "# exemplo com fuso horário de Recife sem necessidade de timedelta\n",
    "from datetime import datetime\n",
    "from zoneinfo import ZoneInfo\n",
    "\n",
    "fuso_horario_sao_paulo = ZoneInfo('America/Recife')\n",
    "data_hora = datetime(2023, 6, 26, 15, 30, 20, tzinfo=fuso_horario_sao_paulo)\n",
    "print(f\"Data/hora: {data_hora}\")"
   ]
  },
  {
   "cell_type": "markdown",
   "metadata": {},
   "source": [
    "### Conversão entre fusos horários"
   ]
  },
  {
   "cell_type": "code",
   "execution_count": 52,
   "metadata": {},
   "outputs": [
    {
     "name": "stdout",
     "output_type": "stream",
     "text": [
      "Data/hora atual (fuso horário local): 2025-03-31 19:05:28.498344\n"
     ]
    }
   ],
   "source": [
    "from datetime import datetime\n",
    "from zoneinfo import ZoneInfo\n",
    "\n",
    "data_hora_atual = datetime.now()\n",
    "\n",
    "print(f\"Data/hora atual (fuso horário local): {data_hora_atual}\")\n",
    "\n"
   ]
  },
  {
   "cell_type": "code",
   "execution_count": 54,
   "metadata": {},
   "outputs": [
    {
     "name": "stdout",
     "output_type": "stream",
     "text": [
      "Data/Hora atual no acre: 2025-03-31 17:05:28.498344-05:00\n"
     ]
    }
   ],
   "source": [
    "fuso_horario_acre = ZoneInfo('America/Rio_Branco')\n",
    "data_hora_acre = data_hora_atual.astimezone(fuso_horario_acre)\n",
    "print(f\"Data/Hora atual no acre: {data_hora_acre}\")"
   ]
  },
  {
   "cell_type": "code",
   "execution_count": 55,
   "metadata": {},
   "outputs": [
    {
     "name": "stdout",
     "output_type": "stream",
     "text": [
      "Data/Hora atual em nova york: 2025-03-31 18:05:28.498344-04:00\n"
     ]
    }
   ],
   "source": [
    "fuso_horari_ny = ZoneInfo('America/New_York')\n",
    "data_hora_ny = data_hora_atual.astimezone(fuso_horari_ny)\n",
    "print(f\"Data/Hora atual em nova york: {data_hora_ny}\")\n"
   ]
  }
 ],
 "metadata": {
  "kernelspec": {
   "display_name": "Python 3",
   "language": "python",
   "name": "python3"
  },
  "language_info": {
   "codemirror_mode": {
    "name": "ipython",
    "version": 3
   },
   "file_extension": ".py",
   "mimetype": "text/x-python",
   "name": "python",
   "nbconvert_exporter": "python",
   "pygments_lexer": "ipython3",
   "version": "3.13.2"
  }
 },
 "nbformat": 4,
 "nbformat_minor": 2
}
